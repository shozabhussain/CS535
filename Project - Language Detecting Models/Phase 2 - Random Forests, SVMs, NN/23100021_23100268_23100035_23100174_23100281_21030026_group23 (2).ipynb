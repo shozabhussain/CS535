{
  "cells": [
    {
      "cell_type": "markdown",
      "metadata": {
        "id": "O4U_vuNnrbgH"
      },
      "source": [
        "## This is Project phase 2 by Group-23 \n",
        "Rollnumber : 23100021, 23100268, 23100035, 23100174, 23100281, 21030026\n",
        "\n",
        "For This phase instead of dowloding the whole dataset we get  the features and label of the data in csv. We further divide this data into train and test set and use it for training and testing our models. You can dowload the csv of traing set from [here](https://drive.google.com/file/d/1uOBmLfpUqFfOeew4oQhhHCITGOU65Jv5/view?usp=sharing) and test data csv from [here](https://drive.google.com/file/d/1uOBmLfpUqFfOeew4oQhhHCITGOU65Jv5/view?usp=sharing). We have carefully selected our training and testing splits by testing our model for 50:50, 60:40 , 70:30 , 80:20 splits of tarin and test data respectively and selected 80:20 splits for which the model were able to better learn form the data.\n",
        "\n",
        "Besides the blow model given we tried diffrent cominations of model for diffrent parameters like DecssionTrees with AdaBooster, svm with polynominal Kernal but found the selected models to perform well. We have performed 5-fold cross validations and plot the scores and loss plots for hyper parameter tuning and selected the parameters on which our model performed best."
      ]
    },
    {
      "cell_type": "code",
      "execution_count": null,
      "metadata": {
        "colab": {
          "base_uri": "https://localhost:8080/"
        },
        "id": "3VDrjRSJJ2p6",
        "outputId": "b4001340-05f8-4b05-9ca0-f1e38a0b392f"
      },
      "outputs": [
        {
          "output_type": "stream",
          "name": "stdout",
          "text": [
            "Downloading...\n",
            "From: https://drive.google.com/uc?id=1Dfud716I5zO_k-Lspd5HBjx4yt4vxMYN\n",
            "To: /content/test.csv\n",
            "\r  0% 0.00/952k [00:00<?, ?B/s]\r100% 952k/952k [00:00<00:00, 15.0MB/s]\n"
          ]
        }
      ],
      "source": [
        "#test data\n",
        "!gdown https://drive.google.com/uc?id=1Dfud716I5zO_k-Lspd5HBjx4yt4vxMYN\n",
        "\n"
      ]
    },
    {
      "cell_type": "code",
      "execution_count": null,
      "metadata": {
        "colab": {
          "base_uri": "https://localhost:8080/"
        },
        "id": "V4nQVHwlKz-4",
        "outputId": "22f5d7c9-c07d-4e00-8f70-2ae3baf11080"
      },
      "outputs": [
        {
          "output_type": "stream",
          "name": "stdout",
          "text": [
            "Downloading...\n",
            "From: https://drive.google.com/uc?id=1uOBmLfpUqFfOeew4oQhhHCITGOU65Jv5\n",
            "To: /content/train.csv\n",
            "\r  0% 0.00/3.91M [00:00<?, ?B/s]\r100% 3.91M/3.91M [00:00<00:00, 34.2MB/s]\n"
          ]
        }
      ],
      "source": [
        "#train data\n",
        "!gdown https://drive.google.com/uc?id=1uOBmLfpUqFfOeew4oQhhHCITGOU65Jv5\n"
      ]
    },
    {
      "cell_type": "markdown",
      "metadata": {
        "id": "DjafG42vrdC7"
      },
      "source": [
        "#Import Liberaries"
      ]
    },
    {
      "cell_type": "code",
      "execution_count": null,
      "metadata": {
        "colab": {
          "base_uri": "https://localhost:8080/"
        },
        "id": "rkJwVz_GrXvF",
        "outputId": "7ea33d30-b90d-4be3-b176-062cf2739bce"
      },
      "outputs": [
        {
          "output_type": "stream",
          "name": "stdout",
          "text": [
            "Collecting python_speech_features\n",
            "  Downloading python_speech_features-0.6.tar.gz (5.6 kB)\n",
            "Building wheels for collected packages: python-speech-features\n",
            "  Building wheel for python-speech-features (setup.py) ... \u001b[?25l\u001b[?25hdone\n",
            "  Created wheel for python-speech-features: filename=python_speech_features-0.6-py3-none-any.whl size=5888 sha256=361e141bfc4e314c9774433002c9534bb1eaa486fe1b51c7b834d625af4cdbf7\n",
            "  Stored in directory: /root/.cache/pip/wheels/b0/0e/94/28cd6afa3cd5998a63eef99fe31777acd7d758f59cf24839eb\n",
            "Successfully built python-speech-features\n",
            "Installing collected packages: python-speech-features\n",
            "Successfully installed python-speech-features-0.6\n"
          ]
        }
      ],
      "source": [
        "%pip install python_speech_features"
      ]
    },
    {
      "cell_type": "code",
      "execution_count": null,
      "metadata": {
        "id": "U5Sg1GlBraia"
      },
      "outputs": [],
      "source": [
        "import python_speech_features as mfcc\n",
        "from scipy.io.wavfile import read\n",
        "import numpy as np\n",
        "import os\n",
        "from sklearn.linear_model import LogisticRegression\n",
        "from sklearn.metrics import classification_report\n",
        "from sklearn import metrics\n",
        "from sklearn.metrics import confusion_matrix\n",
        "import pandas as pd\n",
        "import matplotlib.pyplot as plt\n",
        "from sklearn.model_selection import StratifiedShuffleSplit\n",
        "from sklearn.model_selection import GridSearchCV\n",
        "from sklearn import svm"
      ]
    },
    {
      "cell_type": "code",
      "execution_count": null,
      "metadata": {
        "id": "C3YvgL6lMO3B"
      },
      "outputs": [],
      "source": [
        "from sklearn import tree\n",
        "from sklearn.ensemble import RandomForestClassifier\n",
        "from sklearn.ensemble import BaggingClassifier"
      ]
    },
    {
      "cell_type": "markdown",
      "metadata": {
        "id": "uZf3RAdjZ-7G"
      },
      "source": [
        "# Read and process the data "
      ]
    },
    {
      "cell_type": "code",
      "execution_count": null,
      "metadata": {
        "id": "9IbmDc6CrSfk"
      },
      "outputs": [],
      "source": [
        "# convert Audio to features\n",
        "\n",
        "def getMFCC(audio, sr):\n",
        "    features = mfcc.mfcc(audio, sr, 0.025, 0.01, 13, appendEnergy = True)\n",
        "    return np.mean(features, axis=0)"
      ]
    },
    {
      "cell_type": "code",
      "execution_count": null,
      "metadata": {
        "id": "uJWp3NE_qJFC"
      },
      "outputs": [],
      "source": [
        "def read_csv_to_data_frame(path):\n",
        "    df = pd.read_csv(path)\n",
        "    return df"
      ]
    },
    {
      "cell_type": "code",
      "execution_count": null,
      "metadata": {
        "id": "dzIYGybBqbpl"
      },
      "outputs": [],
      "source": [
        "\n",
        "\n",
        "def pandas_frame_to_nump(df):\n",
        "    lst = [\"0\", \"1\", \"2\", \"3\", \"4\", \"5\", \"6\", \"7\", \"8\",\"9\",\"10\",\"11\",\"12\"]\n",
        "    features = df[lst].to_numpy()\n",
        "    labels = df[\"labels\"]\n",
        "    file_names = df[\"file_name\"]\n",
        "    classes = df[\"label_dis\"].unique()\n",
        "    return features, labels, classes, file_names"
      ]
    },
    {
      "cell_type": "code",
      "execution_count": null,
      "metadata": {
        "id": "QU3npaxjaIso"
      },
      "outputs": [],
      "source": [
        "#get mean and stander deviation for each feature for training data #\n",
        "def getMeanAndStd(X):\n",
        "    \"\"\"\n",
        "    get the stander deviation and mean for a feature for all values of training data.\n",
        "    each row contains value of single feature for all training instances\n",
        "\n",
        "    Arguments\n",
        "    ---------\n",
        "    X : array\n",
        "        The input data-set of shape (n, m), where m is the number of training examples and n is the number of labels.\n",
        "\n",
        "    Returns\n",
        "    -------\n",
        "    stats : array\n",
        "        The array of stats containing stander deviation and mean for a feature for all values of training data.\n",
        "    each row contains value of single feature for all training instances\n",
        "    \"\"\"\n",
        "    stats = [(round(np.mean(x), 2), round(np.std(x), 2)) for x in X]\n",
        "    return stats"
      ]
    },
    {
      "cell_type": "code",
      "execution_count": null,
      "metadata": {
        "id": "03x4adPqrEIR"
      },
      "outputs": [],
      "source": [
        "# get mean and stander deviation for each feature for training data #\n",
        "def normalizeTheFeatures(X, stats, start = 0):\n",
        "    \"\"\"\n",
        "    get the stander deviation and mean for a feature for all values of training data.\n",
        "    each row contains value of single feature for all training instances\n",
        "\n",
        "    Arguments\n",
        "    ---------\n",
        "    X : array\n",
        "        The input data-set of shape (n, m), where m is the number of training examples and n is the number of labels.\n",
        "    stats: array\n",
        "        The array shape (n,), where n is the number of features for defining an instance. here each element is a tuple\n",
        "        where first element of tuple is the mean of the feature for all training example and the second element of tuple\n",
        "        is the stander deviation of the feature for all training example.\n",
        "\n",
        "    Returns\n",
        "    -------\n",
        "    normalizedX : array\n",
        "        The normalized 2D array of input features on provided mean and std . The array is of shape(n, m)\n",
        "\n",
        "    \"\"\"\n",
        "    n = X.shape[0]\n",
        "    np.finfo('float64')\n",
        "    np.set_printoptions(precision=20)\n",
        "    normalizedX = np.ones((n, X.shape[1]))\n",
        "    for i in range(start, n):\n",
        "        normalizedX[i] = (X[i] - stats[i][0])/(stats[i][1] if stats[i][1] !=0 else 1)\n",
        "\n",
        "    return normalizedX"
      ]
    },
    {
      "cell_type": "code",
      "execution_count": null,
      "metadata": {
        "id": "c7kDIMbirK6-"
      },
      "outputs": [],
      "source": [
        "def getDataIntoFeatureVactor(path):\n",
        "    features_mat = []\n",
        "    label = []\n",
        "    dir = os.listdir(path)\n",
        "    dir_dic = {}\n",
        "    for count, x in enumerate(dir):\n",
        "        path2 = path+\"/\"+x\n",
        "        for sp in os.listdir(path2):\n",
        "            path3 = path2 + \"/\" + sp\n",
        "            for file in os.listdir(path3):\n",
        "                sr, audio = read(path3 + \"/\" + file)\n",
        "                features = getMFCC(audio, sr)\n",
        "                features_mat.append(features)\n",
        "                label.append(count)\n",
        "        dir_dic[x] = count\n",
        "\n",
        "    features_np_mat = np.array(features_mat)\n",
        "    return features_np_mat, label, dir_dic"
      ]
    },
    {
      "cell_type": "code",
      "execution_count": null,
      "metadata": {
        "colab": {
          "base_uri": "https://localhost:8080/"
        },
        "id": "Ehc5mhxisghR",
        "outputId": "3f048467-217a-477b-a770-40036f162e28"
      },
      "outputs": [
        {
          "output_type": "stream",
          "name": "stdout",
          "text": [
            "Loading the train and test data as Features...\n",
            "Loading completed\n",
            "Preprocesing the train and test data...\n",
            "Preprocesing Completed\n"
          ]
        }
      ],
      "source": [
        "print(\"Loading the train and test data as Features...\")\n",
        "train_df = read_csv_to_data_frame(\"train.csv\")\n",
        "test_df = read_csv_to_data_frame(\"test.csv\")\n",
        "train_data, train_label, total_class, file_name1 = pandas_frame_to_nump(train_df)\n",
        "test_data,test_label, total_class2, file_name2iiii = pandas_frame_to_nump(test_df)\n",
        "\n",
        "print(\"Loading completed\")\n",
        "print(\"Preprocesing the train and test data...\")\n",
        "train_data = np.transpose(train_data)\n",
        "test_data = np.transpose(test_data)\n",
        "stats = getMeanAndStd(train_data)\n",
        "normalized_train_data = normalizeTheFeatures(train_data, stats, 0)\n",
        "normalized_test_data = normalizeTheFeatures(test_data,stats, 0)\n",
        "normalized_train_data = np.transpose(normalized_train_data) \n",
        "normalized_test_data = np.transpose(normalized_test_data)\n",
        "print(\"Preprocesing Completed\")\n",
        "\n",
        "number_of_classes = len(total_class)"
      ]
    },
    {
      "cell_type": "code",
      "execution_count": null,
      "metadata": {
        "id": "kTGFi4UBMz5y"
      },
      "outputs": [],
      "source": [
        "def getConfusionMatrixAsPandasDataFrame(matrix, classes):\n",
        "    '''\n",
        "      Form the given 2 d numpy confusion matrix, return a data frame of counfusion matrix with headers for easy dispaly of confusion matrix\n",
        "\n",
        "      Arguments\n",
        "      ---------\n",
        "       matrix: 2D numpy arry\n",
        "        A 2D array containg confusion matrix\n",
        "\n",
        "      axis: int\n",
        "       A axis column to get the confuion matrix form given matrix either row or column wise. if axis=0 the the given\n",
        "       confusion matrix is stores precdiction of a perticular class row vise and vise versa for column.\n",
        "\n",
        "      Returns\n",
        "      -------\n",
        "\n",
        "      count_matrix :pandas dataframe\n",
        "        a data frame of easy visulatization of\n",
        "\n",
        "      '''\n",
        "    matrix = matrix.astype(int)\n",
        "    gold_labels = {}\n",
        "    predicted_labels = []\n",
        "    for x in classes:\n",
        "        gold_label = 'Gold ' + x.upper()\n",
        "        gold_labels[gold_label]=''\n",
        "        predicted_label = 'Predicted ' + x.upper()\n",
        "        predicted_labels.append(predicted_label)\n",
        "\n",
        "    con_mats = pd.DataFrame(gold_labels,\n",
        "                           index=predicted_labels)\n",
        "    for count, x in enumerate(con_mats):\n",
        "        con_mats[x] = matrix[count]\n",
        "\n",
        "    return con_mats"
      ]
    },
    {
      "cell_type": "code",
      "execution_count": null,
      "metadata": {
        "id": "ABWSC56zmuuz"
      },
      "outputs": [],
      "source": [
        "def printReport( confusion_matrics, accuracy, f1, precsion, recall, class_report, classes):\n",
        "    '''\n",
        "    Print confusion matrix and report\n",
        "    Arguments\n",
        "    ---------\n",
        "    accuracy: int\n",
        "    contains accuracy of our prediction\n",
        "\n",
        "    confusion_matrix:\n",
        "    confusion matrix for our prediction\n",
        "\n",
        "    axis: int\n",
        "    A axis column to get the confuion matrix form given matrix either row or column wise. if axis=0 the the given\n",
        "    confusion matrix is stores precdiction of a perticular class row vise and vise versa for column.\n",
        "\n",
        "    Returns\n",
        "    -------\n",
        "    none\n",
        "\n",
        "\n",
        "    '''\n",
        "    print(\"---------------------------------------------------------------------------------------\")\n",
        "    print(\"\\n\\t\\t\\t\\tConfusion Matrix\\n\")\n",
        "    print(getConfusionMatrixAsPandasDataFrame(confusion_matrics, classes))\n",
        "    print(\"\\nAccuracy Score: {}%\".format(round(accuracy,2)))\n",
        "    print(\"\\nF1 Score: {}\".format(round(f1, 2)))\n",
        "    print(\"\\nRecall Score: {}%\".format(round(recall, 2)))\n",
        "    print(\"\\nPrecision Score: {}%\".format(round(precsion, 2)))\n",
        "    print(\"\\n\\t\\t\\t\\t\\tClass Report\")\n",
        "    print(class_report)\n",
        "    print(\"---------------------------------------------------------------------------------------\")"
      ]
    },
    {
      "cell_type": "code",
      "execution_count": null,
      "metadata": {
        "id": "bR3AYhr82oUJ"
      },
      "outputs": [],
      "source": [
        "\n",
        "def evelaution_matric(test_label, predicted_label):\n",
        "    accuracy_score = (metrics.accuracy_score(test_label, predicted_label))\n",
        "    accuracy_score = round(accuracy_score * 100, 2)\n",
        "    confusion_mat = confusion_matrix(test_label, predicted_label)\n",
        "    macro_f1 = (metrics.f1_score(test_label, predicted_label, average='macro', zero_division=0))\n",
        "    macro_f1 = (round(macro_f1, 2)) * 100\n",
        "    macro_precision = (metrics.precision_score(test_label, predicted_label, average='macro', zero_division=0))\n",
        "    macro_precision = (round(macro_precision, 2)) * 100\n",
        "    macro_recall = (metrics.recall_score(test_label, predicted_label, average='macro', zero_division=0))\n",
        "    macro_recall = round(macro_recall * 100, 2)\n",
        "    class_report = classification_report(test_label, predicted_label, zero_division=1)\n",
        "\n",
        "\n",
        "    return confusion_mat, accuracy_score, macro_f1, macro_precision, macro_recall, class_report"
      ]
    },
    {
      "cell_type": "code",
      "execution_count": null,
      "metadata": {
        "id": "tACkHOaT1nno"
      },
      "outputs": [],
      "source": [
        "# for given values of x and y axes plot the graph\n",
        "def plot_graph(x, y1, y2, x_axis_label, y_axis_label, y1_legend, y2_legend, title):\n",
        "    plt.plot(x, y1)\n",
        "    plt.plot(x, y2)\n",
        "    plt.title(title)\n",
        "    plt.xlabel(x_axis_label)\n",
        "    plt.ylabel(y_axis_label)\n",
        "    plt.legend([y1_legend, y2_legend], loc=\"upper right\")\n",
        "    plt.show()\n"
      ]
    },
    {
      "cell_type": "markdown",
      "metadata": {
        "id": "g8w6-pp1ZysW"
      },
      "source": [
        "#Part 1 "
      ]
    },
    {
      "cell_type": "markdown",
      "metadata": {
        "id": "YPR8T44Uy96Y"
      },
      "source": [
        "## Random forset with and without bagging \n",
        "\n",
        "Note: Here for hyper paratmere tuning we are using tree depth and number of estimators. We run our model for both entropy and gini loss and it performed the same so that is not being use to train hyper parameter"
      ]
    },
    {
      "cell_type": "markdown",
      "metadata": {
        "id": "eXU_7oEj7whT"
      },
      "source": [
        "loss function does not make the diffrence but the max depth, esimater and  max_sample size are one that nedd tunin g"
      ]
    },
    {
      "cell_type": "code",
      "execution_count": null,
      "metadata": {
        "id": "oa61p2VOpZID"
      },
      "outputs": [],
      "source": [
        "from sklearn.ensemble import BaggingClassifier\n",
        "from sklearn.ensemble import RandomForestClassifier"
      ]
    },
    {
      "cell_type": "code",
      "execution_count": null,
      "metadata": {
        "id": "uxPGmJN3bRmH"
      },
      "outputs": [],
      "source": [
        "def model_error_randomforest( n_estimator, max_depth, train_data, train_label, test_data, test_label):\n",
        "    bg = RandomForestClassifier(max_depth=max_depth, random_state = 3 , n_estimators=n_estimator)\n",
        "    bg.fit(train_data, train_label)\n",
        "    predicted_label1 = bg.predict(train_data)\n",
        "    predicted_label2 = bg.predict(test_data)\n",
        "    train_er = bg.score(train_data, train_label)\n",
        "    test_er = bg.score(test_data, test_label)\n",
        "    tr_loss = cross_entropy(predicted_label1, train_label)\n",
        "    ts_loss = cross_entropy( predicted_label2, test_label)\n",
        "    return train_er, test_er, tr_loss, ts_loss"
      ]
    },
    {
      "cell_type": "code",
      "execution_count": null,
      "metadata": {
        "id": "nLDP8afqbFnD"
      },
      "outputs": [],
      "source": [
        "def cross_entropy(predictions, targets, epsilon=1e-12):\n",
        "    \"\"\"\n",
        "    Computes cross entropy between targets (encoded as one-hot vectors)\n",
        "    and predictions.\n",
        "    Input: predictions (N, k) ndarray\n",
        "           targets (N, k) ndarray\n",
        "    Returns: scalar\n",
        "    \"\"\"\n",
        "    predictions = np.clip(predictions, epsilon, 1. - epsilon)\n",
        "    ce = - np.mean(np.log(predictions) * targets)\n",
        "    return ce"
      ]
    },
    {
      "cell_type": "code",
      "execution_count": 36,
      "metadata": {
        "id": "34cCB6o_a9AI"
      },
      "outputs": [],
      "source": [
        "def cross_val_RandomForest(train_feature_matrix, y_train, cv=5):\n",
        "    n_estimators = np.arange(100, 800, 100)\n",
        "    max_depth = np.arange(10, 70, 10)\n",
        "    comb_array = np.array(np.meshgrid(n_estimators, max_depth)).T.reshape(-1, 2)\n",
        "    max_d = np.max(max_depth)\n",
        "    train_data_split = np.array_split(train_feature_matrix, cv)\n",
        "    y_train_data_split = np.array_split(y_train, cv)\n",
        "\n",
        "    mean_error_test = np.zeros(len(comb_array))\n",
        "    mean_error_train = np.zeros(len(comb_array))\n",
        "    mean_error_test1 = np.zeros(len(max_depth))\n",
        "    mean_error_train1 = np.zeros(len(max_depth))\n",
        "    \n",
        "    mean_loss_test1 = np.zeros(len(max_depth))\n",
        "    mean_loss_train1 = np.zeros(len(max_depth))\n",
        "    k = 0\n",
        "    for i in range(len(comb_array)):\n",
        "        es = comb_array[i][0]\n",
        "        dep = comb_array[i][1]\n",
        "        error_test = []\n",
        "        error_train = []\n",
        "        loss_test =[]\n",
        "        loss_train = []\n",
        "        for f in range(cv):\n",
        "            x_train_data = np.concatenate(([train_data_split[x] for x in range(cv) if x != f]), axis=0)\n",
        "            y_train_data = np.concatenate(([y_train_data_split[x] for x in range(cv) if x != f]), axis=0)\n",
        "            x_cv = train_data_split[f]\n",
        "            y_cv = y_train_data_split[f]\n",
        "            train_er, test_er, tr_loss, ts_loss= model_error_randomforest( es, dep,  x_train_data, y_train_data, x_cv, y_cv)\n",
        "            error_test.append(test_er)\n",
        "            error_train.append(train_er)\n",
        "            loss_test.append(ts_loss)\n",
        "            loss_train.append(tr_loss)\n",
        "\n",
        "        mean_test = np.mean(error_test)\n",
        "        mean_train = np.mean(error_train)\n",
        "        mean_error_test[i] = np.round(mean_test, 4)\n",
        "        mean_error_train[i] = np.round(mean_train, 4)\n",
        "        mean_error_test1[k] = np.round(mean_test, 4)\n",
        "        mean_error_train1[k] = np.round(mean_train, 4)\n",
        "        mean_loss_test1[k] = np.round( np.mean(loss_test), 4)\n",
        "        mean_loss_train1[k] = np.round( np.mean(loss_train), 4)\n",
        "        k+=1\n",
        "\n",
        "        if max_d == dep:\n",
        "            plot_graph(max_depth,  mean_loss_test1, mean_loss_train1, \"depth\", \"train and validation loss\",\n",
        "                       \"validation loss\",\n",
        "                       \"train loss\", \"graph between train and validation loss for esitmators =\" + str(es))\n",
        "            mean_error_test1 = np.zeros(len(max_depth))\n",
        "            mean_error_train1 = np.zeros(len(max_depth))\n",
        "            mean_loss_test1 = np.zeros(len(max_depth))\n",
        "            mean_loss_train1 = np.zeros(len(max_depth))\n",
        "            k = 0\n",
        "\n",
        "\n",
        "    # find the combo which gives minmum errror on both train and val data  early\n",
        "    max_val_cost_arg = np.argwhere(mean_error_test == np.max(mean_error_test))\n",
        "    arr = mean_error_train[max_val_cost_arg]\n",
        "    max_val_train_arg = np.argmax(arr)\n",
        "    n = max_val_cost_arg[max_val_train_arg][0]\n",
        "    best_dep = comb_array[n][1]\n",
        "    best_es =comb_array[n][0]\n",
        "    return best_dep, best_es\n"
      ]
    },
    {
      "cell_type": "code",
      "execution_count": null,
      "metadata": {
        "colab": {
          "background_save": true,
          "base_uri": "https://localhost:8080/",
          "height": 851
        },
        "id": "0yGQve9gPDF8",
        "outputId": "e224ac30-5164-47f1-d5e7-bffa11b40a72"
      },
      "outputs": [
        {
          "data": {
            "image/png": "[encoded data removed]",
            "text/plain": [
              "<Figure size 432x288 with 1 Axes>"
            ]
          },
          "metadata": {},
          "output_type": "display_data"
        },
        {
          "data": {
            "image/png": "[encoded data removed]",
            "text/plain": [
              "<Figure size 432x288 with 1 Axes>"
            ]
          },
          "metadata": {},
          "output_type": "display_data"
        },
        {
          "data": {
            "image/png": "[encoded data removed]",
            "text/plain": [
              "<Figure size 432x288 with 1 Axes>"
            ]
          },
          "metadata": {},
          "output_type": "display_data"
        },
        {
          "data": {
            "image/png": "[encoded data removed]",
            "text/plain": [
              "<Figure size 432x288 with 1 Axes>"
            ]
          },
          "metadata": {},
          "output_type": "display_data"
        },
        {
          "data": {
            "image/png": "[encoded data removed]",
            "text/plain": [
              "<Figure size 432x288 with 1 Axes>"
            ]
          },
          "metadata": {},
          "output_type": "display_data"
        },
        {
          "data": {
            "image/png": "[encoded data removed]",
            "text/plain": [
              "<Figure size 432x288 with 1 Axes>"
            ]
          },
          "metadata": {},
          "output_type": "display_data"
        },
        {
          "data": {
            "image/png": "[encoded data removed]",
            "text/plain": [
              "<Figure size 432x288 with 1 Axes>"
            ]
          },
          "metadata": {},
          "output_type": "display_data"
        },
        {
          "name": "stdout",
          "output_type": "stream",
          "text": [
            "depth = 50\n",
            "esitamor = 700\n",
            "---------------------------------------------------------------------------------------\n",
            "\n",
            "\t\t\t\tConfusion Matrix\n",
            "\n",
            "              Gold EN  Gold UE  Gold UR\n",
            "Predicted EN      764      100      106\n",
            "Predicted UE      189     1119      183\n",
            "Predicted UR      117       80      754\n",
            "\n",
            "Accuracy Score: 77.29%\n",
            "\n",
            "F1 Score: 77.0\n",
            "\n",
            "Recall Score: 76.61%\n",
            "\n",
            "Precision Score: 78.0%\n",
            "\n",
            "\t\t\t\t\tClass Report\n",
            "              precision    recall  f1-score   support\n",
            "\n",
            "           0       0.79      0.71      0.75      1070\n",
            "           1       0.75      0.86      0.80      1299\n",
            "           2       0.79      0.72      0.76      1043\n",
            "\n",
            "    accuracy                           0.77      3412\n",
            "   macro avg       0.78      0.77      0.77      3412\n",
            "weighted avg       0.78      0.77      0.77      3412\n",
            "\n",
            "---------------------------------------------------------------------------------------\n"
          ]
        }
      ],
      "source": [
        "dep , es = cross_val_RandomForest(normalized_train_data, train_label, cv=5)\n",
        "print(\"depth =\", dep)\n",
        "print(\"esitamor =\", es)\n",
        "\n",
        "rd  = RandomForestClassifier( max_depth= dep, random_state = 3, n_estimators=es)\n",
        "rd.fit(normalized_train_data, train_label)\n",
        "predicted_label = rd.predict(normalized_test_data)\n",
        "\n",
        "cm, ac, macro_f1, macro_precision, macro_recall, class_report =evelaution_matric(test_label, predicted_label)\n",
        "printReport( cm, ac, macro_f1, macro_precision, macro_recall, class_report, total_class)"
      ]
    },
    {
      "cell_type": "markdown",
      "metadata": {
        "id": "YY2HFpibbk-3"
      },
      "source": [
        "In this part, although KNN gives the higest accuracy but it might be due to getting taring and testing data from the same user. We also tested it from some outside data where Random forest perform well. Moving Forward, alnog with Random forst we tried bagging and boosting esimators. The bagging estimater does not perform well but boosting gives a good accuray with less number of estimtors in Random forest. But with large number of esitmators, random forset out performed bagging where accuray of bagging reamain arround 75% and random forest increase to 77%. "
      ]
    },
    {
      "cell_type": "code",
      "source": [
        "dep = 50\n",
        "es =700"
      ],
      "metadata": {
        "id": "DBI7pizSML6j"
      },
      "execution_count": null,
      "outputs": []
    },
    {
      "cell_type": "code",
      "execution_count": null,
      "metadata": {
        "id": "dEqzbKlUc0BM",
        "colab": {
          "base_uri": "https://localhost:8080/"
        },
        "outputId": "3216b139-d6f8-4836-f6a0-afc553282267"
      },
      "outputs": [
        {
          "output_type": "stream",
          "name": "stdout",
          "text": [
            "---------------------------------------------------------------------------------------\n",
            "\n",
            "\t\t\t\tConfusion Matrix\n",
            "\n",
            "              Gold EN  Gold UE  Gold UR\n",
            "Predicted EN      735      100      116\n",
            "Predicted UE      222     1129      224\n",
            "Predicted UR      113       70      703\n",
            "\n",
            "Accuracy Score: 75.23%\n",
            "\n",
            "F1 Score: 75.0\n",
            "\n",
            "Recall Score: 74.34%\n",
            "\n",
            "Precision Score: 76.0%\n",
            "\n",
            "\t\t\t\t\tClass Report\n",
            "              precision    recall  f1-score   support\n",
            "\n",
            "           0       0.77      0.69      0.73      1070\n",
            "           1       0.72      0.87      0.79      1299\n",
            "           2       0.79      0.67      0.73      1043\n",
            "\n",
            "    accuracy                           0.75      3412\n",
            "   macro avg       0.76      0.74      0.75      3412\n",
            "weighted avg       0.76      0.75      0.75      3412\n",
            "\n",
            "---------------------------------------------------------------------------------------\n"
          ]
        }
      ],
      "source": [
        "## running of random forset using the same setting with boosters\n",
        "\n",
        "bg = BaggingClassifier( RandomForestClassifier( max_depth= dep, random_state = 3, n_estimators=es), max_samples = 0.8, random_state=3, n_estimators=20)\n",
        "bg.fit(normalized_train_data, train_label)\n",
        "predicted_label = bg.predict(normalized_test_data)\n",
        "\n",
        "cm, ac, macro_f1, macro_precision, macro_recall, class_report =evelaution_matric(test_label, predicted_label)\n",
        "printReport( cm, ac, macro_f1, macro_precision, macro_recall, class_report, total_class)"
      ]
    },
    {
      "cell_type": "markdown",
      "metadata": {
        "id": "H_YU3YKFZ2lp"
      },
      "source": [
        "#Part 2\n"
      ]
    },
    {
      "cell_type": "code",
      "execution_count": null,
      "metadata": {
        "id": "_vR03rbfS5Qt"
      },
      "outputs": [],
      "source": [
        "def model_error( gemma, train_data, train_label, test_data, test_label):\n",
        "    rbf_svc = svm.SVC(kernel='rbf', gamma= gemma)\n",
        "    rbf_svc.fit(train_data, train_label)\n",
        "    train_er = rbf_svc.score(train_data, train_label)\n",
        "    test_er = rbf_svc.score(test_data, test_label)\n",
        "    predicted_label1 = bg.predict(train_data)\n",
        "    predicted_label2 = bg.predict(test_data)\n",
        "    train_er = rbf_svc.score(train_data, train_label)\n",
        "    test_er = rbf_svc.score(test_data, test_label)\n",
        "    tr_loss = cross_entropy(predicted_label1, train_label)\n",
        "    ts_loss = cross_entropy( predicted_label2, test_label)\n",
        "    return train_er, test_er, tr_loss, ts_loss\n"
      ]
    },
    {
      "cell_type": "code",
      "execution_count": null,
      "metadata": {
        "id": "N5Qy3noCZ8pM"
      },
      "outputs": [],
      "source": [
        "def cross_val_svm(train_feature_matrix, y_train, cv=5):\n",
        "    # split the data into numver of parts for which we have to run cross validation\n",
        "    gamma_range = np.logspace(-2, 2, 13)\n",
        "\n",
        "    train_data_split = np.array_split(train_feature_matrix, cv)\n",
        "    y_train_data_split = np.array_split(y_train, cv)\n",
        "\n",
        "    mean_error_test = np.zeros(len(gamma_range))\n",
        "    mean_error_train = np.zeros(len(gamma_range))\n",
        "    for count, i in enumerate(gamma_range):\n",
        "        error_test = []\n",
        "        error_train = []\n",
        "        for f in range(cv):\n",
        "            x_train_data = np.concatenate(([train_data_split[x] for x in range(cv) if x != f]), axis=0)\n",
        "            y_train_data = np.concatenate(([y_train_data_split[x] for x in range(cv) if x != f]), axis=0)\n",
        "            x_cv = train_data_split[f]\n",
        "            y_cv = y_train_data_split[f]\n",
        "            train_er, test_er,  tr_loss, ts_loss = model_error(i, x_train_data, y_train_data, x_cv, y_cv)\n",
        "            error_test.append(test_er)\n",
        "            error_train.append(train_er)\n",
        "        mean_test = np.mean(error_test)\n",
        "        mean_train = np.mean(error_train)\n",
        "        mean_error_test[count] = np.round(mean_test, 2)\n",
        "        mean_error_train[count] = np.round(mean_train, 2)\n",
        "\n",
        "    plot_graph(gamma_range.tolist() ,mean_error_train , mean_error_test, \"Gemma\", \"train and validation score\", \"training score\", \"valiadtion score\", \"test and validtion score for svm\" )\n",
        "    min_val_cost_arg = np.argwhere(mean_error_test == np.max(mean_error_test))\n",
        "    arr = mean_error_train[min_val_cost_arg]\n",
        "    min_val_train_arg = np.argmax(arr)\n",
        "\n",
        "    n = min_val_cost_arg[min_val_train_arg][0]\n",
        "    return gamma_range[n]"
      ]
    },
    {
      "cell_type": "code",
      "execution_count": 26,
      "metadata": {
        "id": "99eXHzSgSkCt",
        "colab": {
          "base_uri": "https://localhost:8080/",
          "height": 824
        },
        "outputId": "fffbf9c3-69ef-4f20-b6d0-3f55329c6ce9"
      },
      "outputs": [
        {
          "output_type": "display_data",
          "data": {
            "image/png": "[encoded data removed]",
            "text/plain": [
              "<Figure size 432x288 with 1 Axes>"
            ]
          },
          "metadata": {
            "needs_background": "light"
          }
        },
        {
          "output_type": "stream",
          "name": "stdout",
          "text": [
            "---------------------------------------------------------------------------------------\n",
            "\n",
            "\t\t\t\tConfusion Matrix\n",
            "\n",
            "              Gold EN  Gold UE  Gold UR\n",
            "Predicted EN      862       96       75\n",
            "Predicted UE      118     1137       97\n",
            "Predicted UR       90       66      871\n",
            "\n",
            "Accuracy Score: 84.11%\n",
            "\n",
            "F1 Score: 84.0\n",
            "\n",
            "Recall Score: 83.87%\n",
            "\n",
            "Precision Score: 84.0%\n",
            "\n",
            "\t\t\t\t\tClass Report\n",
            "              precision    recall  f1-score   support\n",
            "\n",
            "           0       0.83      0.81      0.82      1070\n",
            "           1       0.84      0.88      0.86      1299\n",
            "           2       0.85      0.84      0.84      1043\n",
            "\n",
            "    accuracy                           0.84      3412\n",
            "   macro avg       0.84      0.84      0.84      3412\n",
            "weighted avg       0.84      0.84      0.84      3412\n",
            "\n",
            "---------------------------------------------------------------------------------------\n"
          ]
        }
      ],
      "source": [
        "\n",
        "gemma = cross_val_svm(normalized_train_data, train_label, cv=5)\n",
        "rbf_svc = svm.SVC(kernel='rbf', gamma=gemma)\n",
        "rbf_svc.fit(normalized_train_data, train_label)\n",
        "predicted_label = rbf_svc.predict(normalized_test_data)\n",
        "\n",
        "#print report\n",
        "cm, ac, macro_f1, macro_precision, macro_recall,class_report =evelaution_matric(test_label, predicted_label)\n",
        "printReport( cm, ac, macro_f1, macro_precision, macro_recall, class_report, total_class)"
      ]
    },
    {
      "cell_type": "markdown",
      "metadata": {
        "id": "MVgBvX_dZ40-"
      },
      "source": [
        "#Part 3"
      ]
    },
    {
      "cell_type": "code",
      "execution_count": 27,
      "metadata": {
        "id": "vlv_eSOpZ91O"
      },
      "outputs": [],
      "source": [
        "import numpy as np\n",
        "import pandas as pd\n",
        "from sklearn.model_selection import train_test_split\n",
        "from sklearn.preprocessing import StandardScaler  \n",
        "from sklearn.neural_network import MLPClassifier\n",
        "from sklearn.model_selection import RandomizedSearchCV\n",
        "from sklearn.model_selection import GridSearchCV\n",
        "import matplotlib.pyplot as plt\n",
        "from sklearn import metrics\n",
        "from sklearn.metrics import confusion_matrix\n",
        "from sklearn.metrics import classification_report"
      ]
    },
    {
      "cell_type": "code",
      "source": [
        "model = MLPClassifier(max_iter=1000, random_state=1).fit(normalized_train_data, train_label)\n",
        "\n",
        "alpha = [0.01, 0.05, 0.001, 0.005, 0.0001]\n",
        "param_grid = dict(alpha=alpha)\n",
        "grid_alpha = GridSearchCV(estimator=model, param_grid=param_grid, n_jobs=-1, cv=5, scoring='neg_log_loss', return_train_score=True)\n",
        "grid_alpha_result = grid_alpha.fit(normalized_train_data, train_label)\n",
        "print(\"Best: %f using %s\" % (grid_alpha_result.best_score_, grid_alpha_result.best_params_))"
      ],
      "metadata": {
        "colab": {
          "base_uri": "https://localhost:8080/"
        },
        "id": "AuFGnGwykZpI",
        "outputId": "e36f9a3c-287b-4570-a538-ab27ef5d58bf"
      },
      "execution_count": 29,
      "outputs": [
        {
          "output_type": "stream",
          "name": "stdout",
          "text": [
            "Best: -1.289775 using {'alpha': 0.05}\n"
          ]
        }
      ]
    },
    {
      "cell_type": "markdown",
      "source": [
        "Cross Validation"
      ],
      "metadata": {
        "id": "JFYTGamJl46M"
      }
    },
    {
      "cell_type": "code",
      "source": [
        "alpha_tune = ['0.01', '0.05' ,'0.001', '0.005','0.0001']\n",
        "training_loss_tune = [grid_alpha.cv_results_['mean_train_score'][0],\n",
        "                 grid_alpha.cv_results_['mean_train_score'][1], \n",
        "                 grid_alpha.cv_results_['mean_train_score'][2], \n",
        "                 grid_alpha.cv_results_['mean_train_score'][3],\n",
        "                grid_alpha.cv_results_['mean_train_score'][4]]\n",
        "\n",
        "validation_loss_tune = [grid_alpha.cv_results_['mean_test_score'][0],\n",
        "                  grid_alpha.cv_results_['mean_test_score'][1], \n",
        "                  grid_alpha.cv_results_['mean_test_score'][2], \n",
        "                  grid_alpha.cv_results_['mean_test_score'][3],\n",
        "                  grid_alpha.cv_results_['mean_test_score'][4]]\n",
        "\n",
        "plt.plot(alpha_tune, training_loss_tune, label='training loss')\n",
        "plt.plot(alpha_tune, validation_loss_tune, label='validation loss')\n",
        "plt.title('validation vs training loss on different alphas')\n",
        "plt.xlabel('alphas')\n",
        "plt.ylabel('neg_los_loss')\n",
        "plt.legend()\n",
        "plt.tight_layout()\n",
        "plt.show()"
      ],
      "metadata": {
        "colab": {
          "base_uri": "https://localhost:8080/",
          "height": 297
        },
        "id": "JKJivMt2lBXx",
        "outputId": "f976f22e-45f5-44e3-c6d5-a9f688220b93"
      },
      "execution_count": 30,
      "outputs": [
        {
          "output_type": "display_data",
          "data": {
            "image/png": "[encoded data removed]",
            "text/plain": [
              "<Figure size 432x288 with 1 Axes>"
            ]
          },
          "metadata": {
            "needs_background": "light"
          }
        }
      ]
    },
    {
      "cell_type": "code",
      "source": [
        "model = MLPClassifier(random_state=1, hidden_layer_sizes=(100,200,200), learning_rate = 'adaptive').fit(normalized_train_data, train_label)\n",
        "alpha = [0.01]\n",
        "param_grid = dict(alpha=alpha)\n",
        "grid = GridSearchCV(estimator=model, param_grid=param_grid, n_jobs=-1, cv=5, scoring='neg_log_loss', return_train_score=True)\n",
        "grid_result = grid.fit(normalized_train_data, train_label)\n",
        "print(\"Best: %f using %s\" % (grid_result.best_score_, grid_result.best_params_))"
      ],
      "metadata": {
        "colab": {
          "base_uri": "https://localhost:8080/"
        },
        "id": "ZmhUITmglHLU",
        "outputId": "71abfa0b-7001-4978-e478-111309cb02e4"
      },
      "execution_count": 31,
      "outputs": [
        {
          "output_type": "stream",
          "name": "stdout",
          "text": [
            "Best: -3.459484 using {'alpha': 0.01}\n"
          ]
        }
      ]
    },
    {
      "cell_type": "code",
      "source": [
        "Plotting the Results of Cross Validation"
      ],
      "metadata": {
        "id": "taqdi0QPlwSf"
      },
      "execution_count": null,
      "outputs": []
    },
    {
      "cell_type": "code",
      "source": [
        "folds = np.array([1, 2, 3, 4, 5])\n",
        "training_loss = [grid.cv_results_['split0_train_score'][0],\n",
        "                 grid.cv_results_['split1_train_score'][0], \n",
        "                 grid.cv_results_['split2_train_score'][0], \n",
        "                 grid.cv_results_['split3_train_score'][0],\n",
        "                 grid.cv_results_['split4_train_score'][0]]\n",
        "\n",
        "validation_loss = [grid.cv_results_['split0_test_score'][0],\n",
        "                 grid.cv_results_['split1_test_score'][0], \n",
        "                 grid.cv_results_['split2_test_score'][0], \n",
        "                 grid.cv_results_['split3_test_score'][0],\n",
        "                 grid.cv_results_['split4_test_score'][0]]\n",
        "\n",
        "plt.plot(folds,training_loss, label='training loss')\n",
        "plt.plot(folds, validation_loss, label='validation loss')\n",
        "plt.title('validation vs training loss on 5-fold cross validation')\n",
        "plt.xlabel('folds')\n",
        "plt.ylabel('neg_los_loss')\n",
        "plt.xticks([1,2,3,4,5])\n",
        "plt.legend()\n",
        "plt.tight_layout()\n",
        "plt.show()"
      ],
      "metadata": {
        "colab": {
          "base_uri": "https://localhost:8080/",
          "height": 297
        },
        "id": "in_QlVBDlSbE",
        "outputId": "3db90c3a-758e-472e-ca14-53b0e4e41fdd"
      },
      "execution_count": 32,
      "outputs": [
        {
          "output_type": "display_data",
          "data": {
            "image/png": "[encoded data removed]",
            "text/plain": [
              "<Figure size 432x288 with 1 Axes>"
            ]
          },
          "metadata": {
            "needs_background": "light"
          }
        }
      ]
    },
    {
      "cell_type": "code",
      "source": [
        "predicted_labels = grid.predict(normalized_test_data)"
      ],
      "metadata": {
        "id": "fgQomVPKlXtR"
      },
      "execution_count": 33,
      "outputs": []
    },
    {
      "cell_type": "markdown",
      "source": [
        "Evaluation"
      ],
      "metadata": {
        "id": "sOwoHfl-plfT"
      }
    },
    {
      "cell_type": "code",
      "source": [
        "total_class =['en', 'ue', 'ur']\n",
        "cm, ac, macro_f1, macro_precision, macro_recall,class_report =evelaution_matric(test_label, predicted_labels)\n",
        "printReport( cm, ac, macro_f1, macro_precision, macro_recall, class_report, total_class)"
      ],
      "metadata": {
        "colab": {
          "base_uri": "https://localhost:8080/"
        },
        "id": "hSe69EN-loFC",
        "outputId": "34705941-fcff-4c0e-e6cd-20b564259b04"
      },
      "execution_count": 35,
      "outputs": [
        {
          "output_type": "stream",
          "name": "stdout",
          "text": [
            "---------------------------------------------------------------------------------------\n",
            "\n",
            "\t\t\t\tConfusion Matrix\n",
            "\n",
            "              Gold EN  Gold UE  Gold UR\n",
            "Predicted EN      771      124       94\n",
            "Predicted UE      133     1033       95\n",
            "Predicted UR      166      142      854\n",
            "\n",
            "Accuracy Score: 77.9%\n",
            "\n",
            "F1 Score: 78.0\n",
            "\n",
            "Recall Score: 77.82%\n",
            "\n",
            "Precision Score: 78.0%\n",
            "\n",
            "\t\t\t\t\tClass Report\n",
            "              precision    recall  f1-score   support\n",
            "\n",
            "           0       0.78      0.72      0.75      1070\n",
            "           1       0.82      0.80      0.81      1299\n",
            "           2       0.73      0.82      0.77      1043\n",
            "\n",
            "    accuracy                           0.78      3412\n",
            "   macro avg       0.78      0.78      0.78      3412\n",
            "weighted avg       0.78      0.78      0.78      3412\n",
            "\n",
            "---------------------------------------------------------------------------------------\n"
          ]
        }
      ]
    }
  ],
  "metadata": {
    "colab": {
      "collapsed_sections": [],
      "name": "23100021_23100268_23100035_23100174_23100281_21030026_group23.ipynb",
      "provenance": []
    },
    "kernelspec": {
      "display_name": "Python 3",
      "name": "python3"
    },
    "language_info": {
      "name": "python"
    }
  },
  "nbformat": 4,
  "nbformat_minor": 0
}