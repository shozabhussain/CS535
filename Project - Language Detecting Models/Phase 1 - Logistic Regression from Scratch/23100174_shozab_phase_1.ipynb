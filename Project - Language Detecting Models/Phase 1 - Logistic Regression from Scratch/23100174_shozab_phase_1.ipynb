{
  "nbformat": 4,
  "nbformat_minor": 0,
  "metadata": {
    "colab": {
      "name": "ML Project Phase 1 v2.ipynb",
      "provenance": [],
      "collapsed_sections": []
    },
    "kernelspec": {
      "name": "python3",
      "display_name": "Python 3"
    },
    "language_info": {
      "name": "python"
    }
  },
  "cells": [
    {
      "cell_type": "markdown",
      "metadata": {
        "id": "tzHk_B6lNn_x"
      },
      "source": [
        "Link to Dataset = https://drive.google.com/uc?id=1SjudPhV1QkMqAwVXEWxqNSh7AKxR43bV"
      ]
    },
    {
      "cell_type": "markdown",
      "metadata": {
        "id": "ClfDMwqJmD4m"
      },
      "source": [
        "# **PART 1**"
      ]
    },
    {
      "cell_type": "markdown",
      "metadata": {
        "id": "Xhw3eP_BmJfF"
      },
      "source": [
        "Install the required libraries"
      ]
    },
    {
      "cell_type": "code",
      "metadata": {
        "id": "k4Pm8rPUmVU-",
        "colab": {
          "base_uri": "https://localhost:8080/"
        },
        "outputId": "e1cd6127-5e0d-4611-b672-ee96bb744fb3"
      },
      "source": [
        "!pip install python_speech_features\n",
        "import python_speech_features as mfcc\n",
        "from scipy.io.wavfile import read\n",
        "import numpy as np\n",
        "import glob\n",
        "import pandas as pd\n",
        "import statistics\n",
        "import random"
      ],
      "execution_count": 39,
      "outputs": [
        {
          "output_type": "stream",
          "name": "stdout",
          "text": [
            "Requirement already satisfied: python_speech_features in /usr/local/lib/python3.7/dist-packages (0.6)\n"
          ]
        }
      ]
    },
    {
      "cell_type": "markdown",
      "metadata": {
        "id": "NAKezjDRma3J"
      },
      "source": [
        "**Define the MFCC function.**"
      ]
    },
    {
      "cell_type": "code",
      "metadata": {
        "id": "P5SHSOusmfeF"
      },
      "source": [
        "def get_MFCC(audio, sr):\n",
        "    features = mfcc.mfcc(audio, sr, 0.025, 0.01, 13, appendEnergy = True)\n",
        "    return np.mean(features, axis=0)"
      ],
      "execution_count": 40,
      "outputs": []
    },
    {
      "cell_type": "markdown",
      "metadata": {
        "id": "Hry5ldUVmwn3"
      },
      "source": [
        "Loading Dataset"
      ]
    },
    {
      "cell_type": "code",
      "metadata": {
        "id": "in-iSuHTmzer"
      },
      "source": [
        "train_x_files = glob.glob('/content/drive/MyDrive/Dataset/train/**/*.wav', recursive= True)\n",
        "test_x_files = glob.glob('/content/drive/MyDrive/Dataset/test/**/*.wav', recursive= True)"
      ],
      "execution_count": 41,
      "outputs": []
    },
    {
      "cell_type": "markdown",
      "metadata": {
        "id": "be6oXTWd3igJ"
      },
      "source": [
        "Separating into train and validation set"
      ]
    },
    {
      "cell_type": "code",
      "metadata": {
        "id": "-OoDFytR4MlH"
      },
      "source": [
        "## splitting the training data into training and validation data 80:20 ratio\n",
        "shuffled = random.sample(train_x_files, len(train_x_files))\n",
        "eighty_percent = round(0.8*len(train_x_files))\n",
        "\n",
        "train_x_files_val = shuffled[:eighty_percent]\n",
        "val_files = shuffled[eighty_percent:]"
      ],
      "execution_count": 42,
      "outputs": []
    },
    {
      "cell_type": "markdown",
      "metadata": {
        "id": "5D68vvfBqLND"
      },
      "source": [
        "Read and extract MFCC features for WAVE files."
      ]
    },
    {
      "cell_type": "code",
      "metadata": {
        "id": "QXwUbbxkqMUp"
      },
      "source": [
        "def extraction(audio_files_path_list):\n",
        "  features_list = []\n",
        "  labels = []\n",
        "\n",
        "  for i in range(len(audio_files_path_list)):\n",
        "\n",
        "    sr, audio = read(audio_files_path_list[i])\n",
        "    features = get_MFCC(audio, sr)                      ## extracting features \n",
        "    features_list.append(features)  \n",
        "    label = audio_files_path_list[i].split('/')[-1].split('-')[0] ##extracting labels from name\n",
        "    labels.append(label)\n",
        "\n",
        "  for i in range(len(features_list)):\n",
        "    features_list[i] = features_list[i].reshape(1, 13)\n",
        "\n",
        "  t_X = np.concatenate(features_list)\n",
        "  ##t_X = np.c_[ np.ones(len(features_list)), t_X ]\n",
        "\n",
        "  return t_X, labels"
      ],
      "execution_count": 43,
      "outputs": []
    },
    {
      "cell_type": "code",
      "metadata": {
        "id": "wqsV8-sIrLJy"
      },
      "source": [
        "## extracting features for each data\n",
        "train_X , train_Y = extraction(train_x_files)\n",
        "test_X , test_Y = extraction(test_x_files)\n",
        "train_X_val, train_Y_val = extraction(train_x_files_val)\n",
        "val_X, val_Y = extraction(val_files)"
      ],
      "execution_count": 44,
      "outputs": []
    },
    {
      "cell_type": "markdown",
      "metadata": {
        "id": "T1A01pVEKrfA"
      },
      "source": [
        "making one hot encoded vectors"
      ]
    },
    {
      "cell_type": "code",
      "metadata": {
        "id": "-45kAPR_Kt1R"
      },
      "source": [
        "one_hot_train = pd.get_dummies(train_Y)\n",
        "one_hot_train = one_hot_train.to_numpy()\n",
        "train_Y = one_hot_train\n",
        "\n",
        "one_hot_test = pd.get_dummies(test_Y)\n",
        "one_hot_test = one_hot_test.to_numpy()\n",
        "test_Y = one_hot_test\n",
        "\n",
        "one_hot_train_val = pd.get_dummies(train_Y_val)\n",
        "one_hot_train_val = one_hot_train_val.to_numpy()\n",
        "train_Y_val = one_hot_train_val\n",
        "\n",
        "one_hot_val = pd.get_dummies(val_Y)\n",
        "one_hot_val = one_hot_val.to_numpy()\n",
        "val_Y = one_hot_val"
      ],
      "execution_count": 45,
      "outputs": []
    },
    {
      "cell_type": "markdown",
      "metadata": {
        "id": "UVp9IsUifi87"
      },
      "source": [
        "Normalising Data"
      ]
    },
    {
      "cell_type": "code",
      "metadata": {
        "id": "W3cq7imyfhZk"
      },
      "source": [
        "means = train_X.mean(axis=0)\n",
        "stds = train_X.std(axis=0)\n",
        "\n",
        "train_X = train_X - means\n",
        "train_X = train_X/stds\n",
        "train_X = np.c_[ np.ones(train_X.shape[0]), train_X ]  ## adding bias \n",
        "\n",
        "test_X = test_X - means\n",
        "test_X = test_X/stds\n",
        "test_X = np.c_[ np.ones(test_X.shape[0]), test_X ]\n",
        "\n",
        "\n",
        "means = train_X_val.mean(axis=0)\n",
        "stds = train_X_val.std(axis=0)\n",
        "\n",
        "train_X_val = train_X_val - means\n",
        "train_X_val = train_X_val/stds\n",
        "train_X_val = np.c_[ np.ones(train_X_val.shape[0]), train_X_val ]\n",
        "\n",
        "val_X = val_X - means\n",
        "val_X = val_X /stds\n",
        "val_X = np.c_[ np.ones(val_X.shape[0]), val_X ]"
      ],
      "execution_count": 46,
      "outputs": []
    },
    {
      "cell_type": "markdown",
      "metadata": {
        "id": "q8C10KFouNfM"
      },
      "source": [
        "Hypothesis Function"
      ]
    },
    {
      "cell_type": "code",
      "metadata": {
        "id": "yMn26muwwQDH"
      },
      "source": [
        "def hypothesis(X, W):\n",
        "  h = np.matmul(X, W) ## calculates h(x)\n",
        "  return h"
      ],
      "execution_count": 47,
      "outputs": []
    },
    {
      "cell_type": "markdown",
      "metadata": {
        "id": "2CSxc5VhuSBE"
      },
      "source": [
        "SoftMax Function"
      ]
    },
    {
      "cell_type": "code",
      "metadata": {
        "id": "5IL8ODErz_aA"
      },
      "source": [
        "def softmax(X):\n",
        "  X = np.exp(X)\n",
        "  sums = np.sum(X, axis=1)        #sums of each row \n",
        "  sums = sums.reshape(-1,1)       \n",
        "\n",
        "  X = X / sums\n",
        "  return X"
      ],
      "execution_count": 48,
      "outputs": []
    },
    {
      "cell_type": "markdown",
      "metadata": {
        "id": "6KhwKoc5uUJ8"
      },
      "source": [
        "Cost Function"
      ]
    },
    {
      "cell_type": "code",
      "metadata": {
        "id": "N7Ec97OR622S"
      },
      "source": [
        "def crossEntropyLoss(X, Y, W):\n",
        "  h = hypothesis(X, W)\n",
        "  h = softmax(h)\n",
        "\n",
        "  cost = np.log(h)*Y\n",
        "  cost = (-1/X.shape[0])*np.sum(cost)\n",
        "  return cost"
      ],
      "execution_count": 49,
      "outputs": []
    },
    {
      "cell_type": "markdown",
      "metadata": {
        "id": "vVhSk0OCuWx7"
      },
      "source": [
        "Gradient Descent"
      ]
    },
    {
      "cell_type": "code",
      "metadata": {
        "id": "KypQ4JVxuaa7"
      },
      "source": [
        "def gradientDes(X, Y, alpha, epochs):\n",
        "\n",
        "  number_of_classes = Y.shape[1]\n",
        "  number_of_features = X.shape[1]\n",
        "  thetas = np.ones( (number_of_features, number_of_classes) )   ## weights vectors\n",
        "  J = []\n",
        "\n",
        "  for epoch in range(epochs):\n",
        "    h = hypothesis(X, thetas)\n",
        "    h = softmax(h)\n",
        "    \n",
        "    difference = h - Y\n",
        "    difference = difference.T\n",
        "    temp = np.dot(difference, X)          ## gradient\n",
        "    temp = (1/X.shape[0])*alpha*temp.T      \n",
        "\n",
        "    thetas = thetas - temp \n",
        "    J.append( crossEntropyLoss(X, Y, thetas) )\n",
        "\n",
        "  return thetas, J"
      ],
      "execution_count": 50,
      "outputs": []
    },
    {
      "cell_type": "markdown",
      "metadata": {
        "id": "_5PdS0dH9pK5"
      },
      "source": [
        "Predicting Function"
      ]
    },
    {
      "cell_type": "code",
      "metadata": {
        "id": "k57DXDIw9qxu"
      },
      "source": [
        "def predict(X, W):\n",
        "  predicted = hypothesis(X, W)\n",
        "  predicted = softmax(predicted)\n",
        "  result = np.argmax(predicted, axis=1)   ## predicting labels from probabilities \n",
        "  return result"
      ],
      "execution_count": 51,
      "outputs": []
    },
    {
      "cell_type": "markdown",
      "metadata": {
        "id": "XwihInEk9f0y"
      },
      "source": [
        "Cross Validation "
      ]
    },
    {
      "cell_type": "code",
      "metadata": {
        "id": "ESGkqn1e_oiR"
      },
      "source": [
        "## checking 25 combinations of alphas and epochs for best aplha and epoch\n",
        "alphas = [0.01, 0.005, 0.001, 0.0005, 0.0001 ]\n",
        "epochs_list = [1000, 5000, 10000, 50000, 100000]\n",
        "\n",
        "training_loss = []\n",
        "validation_loss = []\n",
        "\n",
        "for alpha in alphas:\n",
        "  my_list_train = []\n",
        "  my_list_validation = []\n",
        "  for epoch in epochs_list:\n",
        "    weights, costs = gradientDes(train_X_val, train_Y_val, alpha, epoch)\n",
        "    my_list_train.append(costs[-1])                                         ## training loss\n",
        "    my_list_validation.append(crossEntropyLoss(val_X, val_Y, weights))      ## validation loss\n",
        "  training_loss.append(my_list_train)\n",
        "  validation_loss.append(my_list_validation)"
      ],
      "execution_count": 52,
      "outputs": []
    },
    {
      "cell_type": "markdown",
      "metadata": {
        "id": "xwcbaJJbEIbs"
      },
      "source": [
        "Plotting Cross Validation Results"
      ]
    },
    {
      "cell_type": "code",
      "metadata": {
        "colab": {
          "base_uri": "https://localhost:8080/",
          "height": 365
        },
        "id": "CloVp2h_ELUw",
        "outputId": "2347fa4a-3d4c-43cd-f36e-48e2cc972c4f"
      },
      "source": [
        "import matplotlib.pyplot as plt\n",
        "plt.figure(figsize=(20,5))\n",
        "plt.subplot(1,5,1)\n",
        "plt.plot(epochs_list, training_loss[0])\n",
        "plt.plot(epochs_list, validation_loss[0])\n",
        "plt.title('losses at alpha = 0.01')\n",
        "plt.xlabel('epochs')\n",
        "plt.ylabel('loss')\n",
        "plt.legend(['training loss', 'validation loss'])\n",
        "\n",
        "plt.subplot(1,5,2)\n",
        "plt.plot(epochs_list, training_loss[1])\n",
        "plt.plot(epochs_list, validation_loss[1])\n",
        "plt.title('losses at alpha = 0.005')\n",
        "plt.xlabel('epochs')\n",
        "plt.ylabel('loss')\n",
        "plt.legend(['training loss', 'validation loss'])\n",
        "\n",
        "plt.subplot(1,5,3)\n",
        "plt.plot(epochs_list, training_loss[2])\n",
        "plt.plot(epochs_list, validation_loss[2])\n",
        "plt.title('losses at alpha = 0.001')\n",
        "plt.xlabel('epochs')\n",
        "plt.ylabel('loss')\n",
        "plt.legend(['training loss', 'validation loss'])\n",
        "\n",
        "plt.subplot(1,5,4)\n",
        "plt.plot(epochs_list, training_loss[3])\n",
        "plt.plot(epochs_list, validation_loss[3])\n",
        "plt.title('losses at alpha = 0.0005')\n",
        "plt.xlabel('epochs')\n",
        "plt.ylabel('loss')\n",
        "plt.legend(['training loss', 'validation loss'])\n",
        "\n",
        "plt.subplot(1,5,5)\n",
        "plt.plot(epochs_list, training_loss[4])\n",
        "plt.plot(epochs_list, validation_loss[4])\n",
        "plt.title('losses at alpha = 0.0001')\n",
        "plt.xlabel('epochs')\n",
        "plt.ylabel('loss')\n",
        "plt.legend(['training loss', 'validation loss'])\n",
        "plt.tight_layout()\n",
        "plt.show()\n"
      ],
      "execution_count": 53,
      "outputs": [
        {
          "output_type": "display_data",
          "data": {
            "image/png": "[encoded data removed]",
            "text/plain": [
              "<Figure size 1440x360 with 5 Axes>"
            ]
          },
          "metadata": {
            "needs_background": "light"
          }
        }
      ]
    },
    {
      "cell_type": "markdown",
      "metadata": {
        "id": "eLXWc1ziLx3f"
      },
      "source": [
        "**The lowest error on both training and validation set comes when alpha = 0.005 and epochs = 100000 so using them to train our model and testing it on testing data**"
      ]
    },
    {
      "cell_type": "code",
      "metadata": {
        "id": "KCE3BH6fL_Mh"
      },
      "source": [
        "weights, costs = gradientDes(train_X, train_Y, 0.005, 100000)     ## using optimal hyperparameters to train on training data\n",
        "pred_labels = predict(test_X, weights) ## predicting test data labels"
      ],
      "execution_count": 54,
      "outputs": []
    },
    {
      "cell_type": "code",
      "metadata": {
        "colab": {
          "base_uri": "https://localhost:8080/",
          "height": 367
        },
        "id": "tKfqqK-spAZQ",
        "outputId": "7707dd92-a7df-4d4c-cd79-e31c9828f258"
      },
      "source": [
        "plt.figure(figsize=(10,5))\n",
        "plt.plot(costs)\n",
        "plt.title('loss vs epochs')\n",
        "plt.xlabel('epochs')\n",
        "plt.ylabel('loss')"
      ],
      "execution_count": 55,
      "outputs": [
        {
          "output_type": "execute_result",
          "data": {
            "text/plain": [
              "Text(0, 0.5, 'loss')"
            ]
          },
          "metadata": {},
          "execution_count": 55
        },
        {
          "output_type": "display_data",
          "data": {
            "image/png": "[encoded data removed]",
            "text/plain": [
              "<Figure size 720x360 with 1 Axes>"
            ]
          },
          "metadata": {
            "needs_background": "light"
          }
        }
      ]
    },
    {
      "cell_type": "code",
      "metadata": {
        "id": "RaX_R0Vn_OQ1"
      },
      "source": [
        "def Evaluation(predicted_labels, gold_labels):\n",
        "\n",
        "  gold_labels = np.argmax(gold_labels, axis=1)\n",
        "\n",
        "  number_of_class = len(np.unique(gold_labels))\n",
        "  matrix = np.zeros( (number_of_class, number_of_class) )\n",
        "\n",
        "  for i in range( len(gold_labels) ):     ## making confusion matrix\n",
        "    pred_i = predicted_labels[i]\n",
        "    gold_i = gold_labels[i]\n",
        "    matrix[pred_i][gold_i] = matrix[pred_i][gold_i] + 1\n",
        "\n",
        "  precisions = []\n",
        "  recalls = []\n",
        "  acc = 0\n",
        "\n",
        "  for i in range( number_of_class ):      ## calculating precisions and recalls\n",
        "    precisions.append( matrix[i][i] / matrix[i, :].sum())\n",
        "    recalls.append( matrix[i][i] / matrix[:, i].sum() )\n",
        "    acc = acc + matrix[i][i]\n",
        "\n",
        "  avg_prec = statistics.mean(precisions)      ##avg precision\n",
        "  avg_recalls = statistics.mean(recalls)    ## avg recall\n",
        "  f1 = (2*avg_prec*avg_recalls) / (avg_prec + avg_recalls)  ## avg f1 \n",
        "  acc = acc / matrix.sum()    ## accuracy \n",
        "  \n",
        "  return acc, avg_prec, avg_recalls, f1, matrix"
      ],
      "execution_count": 56,
      "outputs": []
    },
    {
      "cell_type": "code",
      "metadata": {
        "colab": {
          "base_uri": "https://localhost:8080/"
        },
        "id": "KIn6CfrdDCqS",
        "outputId": "98439e2c-9f04-41f5-b1c5-c386825f4fed"
      },
      "source": [
        "results = Evaluation(pred_labels, test_Y)\n",
        "print(\"accuracy =\", 100*results[0])\n",
        "print(\"Precision =\", 100*results[1])\n",
        "print(\"Recall =\", 100*results[2])\n",
        "print(\"F1-Score =\", 100*results[3])\n",
        "print(\"Confusion Matrix = \\n\", results[4])"
      ],
      "execution_count": 57,
      "outputs": [
        {
          "output_type": "stream",
          "name": "stdout",
          "text": [
            "accuracy = 93.57142857142857\n",
            "Precision = 95.20524333232436\n",
            "Recall = 94.09722222222221\n",
            "F1-Score = 94.6479900546367\n",
            "Confusion Matrix = \n",
            " [[32.  0.  1.  0.]\n",
            " [ 0. 20.  0.  0.]\n",
            " [ 4.  0. 46.  3.]\n",
            " [ 0.  0.  1. 33.]]\n"
          ]
        }
      ]
    },
    {
      "cell_type": "markdown",
      "metadata": {
        "id": "04KRT8ljORP8"
      },
      "source": [
        "# **PART 2**"
      ]
    },
    {
      "cell_type": "code",
      "metadata": {
        "id": "X9oWMpeSOZzU"
      },
      "source": [
        "from sklearn.linear_model import LogisticRegression\n",
        "from sklearn.metrics import log_loss\n",
        "from sklearn.metrics import confusion_matrix\n",
        "from sklearn.metrics import accuracy_score\n",
        "from sklearn.metrics import f1_score"
      ],
      "execution_count": 58,
      "outputs": []
    },
    {
      "cell_type": "markdown",
      "metadata": {
        "id": "RlGSQ6OBOaYI"
      },
      "source": [
        "Logisitic Regression Classifier"
      ]
    },
    {
      "cell_type": "code",
      "metadata": {
        "id": "xOuugLC-Ocva"
      },
      "source": [
        "logistic_regression = LogisticRegression(multi_class = 'multinomial', max_iter=100000)\n",
        "non_hot_encoded_test_Y =  np.argmax(test_Y, axis=1) \n",
        "non_hot_encoded_train_Y = np.argmax(train_Y, axis=1) \n",
        "\n",
        "logistic_regression.fit(train_X, non_hot_encoded_train_Y)\n",
        "predicted_labels_part2 = logistic_regression.predict(test_X)"
      ],
      "execution_count": 59,
      "outputs": []
    },
    {
      "cell_type": "markdown",
      "metadata": {
        "id": "O8iNpbRDOm8Q"
      },
      "source": [
        "Evaluation"
      ]
    },
    {
      "cell_type": "code",
      "metadata": {
        "colab": {
          "base_uri": "https://localhost:8080/"
        },
        "id": "HPVdXNbHOpkF",
        "outputId": "4f0c4258-3ab9-400f-bf64-be1d3f70bce0"
      },
      "source": [
        "acc = accuracy_score(predicted_labels_part2, non_hot_encoded_test_Y)\n",
        "matrix = confusion_matrix(predicted_labels_part2, non_hot_encoded_test_Y)\n",
        "f1_sc = f1_score(predicted_labels_part2, non_hot_encoded_test_Y, average='macro') \n",
        "print(\"accuracy =\", 100*acc)\n",
        "print(\"F1 score =\", 100*f1_sc)\n",
        "print(\"confusion matrix = \\n\", matrix)"
      ],
      "execution_count": 60,
      "outputs": [
        {
          "output_type": "stream",
          "name": "stdout",
          "text": [
            "accuracy = 93.57142857142857\n",
            "F1 score = 94.5321115962528\n",
            "confusion matrix = \n",
            " [[32  0  1  0]\n",
            " [ 0 20  0  0]\n",
            " [ 4  0 46  3]\n",
            " [ 0  0  1 33]]\n"
          ]
        }
      ]
    }
  ]
}