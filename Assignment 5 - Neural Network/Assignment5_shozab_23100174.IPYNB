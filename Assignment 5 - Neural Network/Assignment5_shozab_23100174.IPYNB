{
  "cells": [
    {
      "cell_type": "markdown",
      "metadata": {
        "id": "j6_DLRhh7zXA"
      },
      "source": [
        "# Assignment 5 - Neural Networks\n",
        "\n",
        "\n",
        "#### Roll Number: 23100174"
      ]
    },
    {
      "cell_type": "markdown",
      "metadata": {
        "id": "EyusByDc74A0"
      },
      "source": [
        "### Task Explanation"
      ]
    },
    {
      "cell_type": "markdown",
      "metadata": {
        "id": "NEDxZ7d875RE"
      },
      "source": [
        "In this assignment, we will see how changes in the neural network architecture and the hyperparameters can have an effect on how the network performs \n",
        "\n",
        "Wheat rust is a devastating plant disease that affects many crops, reducing yields and affecting the livelihoods of farmers and decreasing food security across the continent. The disease is difficult to monitor at a large scale, making it difficult to control and eradicate.\n",
        "\n",
        "The objective of this challenge is to see how small changes in the model architecture and the hyperparameters can have an effect on the final results. You are required to add screenshots of the results (the accuracy, history and loss graphs and the confusion matrix) with the changes you made in the architecture and the hyperparameters in a pdf file, and submit it along with the code.\n",
        "\n",
        "ALL THE CODE HAS ALREADY BEEN WRITTEN FOR YOU. YOU ARE ONLY REQUIRED TO MAKE CHANGES IN THE CODE WHERE IT IS ASKED OF YOU"
      ]
    },
    {
      "cell_type": "markdown",
      "metadata": {
        "id": "gi0LGVvZ8For"
      },
      "source": [
        "### Let's Start"
      ]
    },
    {
      "cell_type": "markdown",
      "metadata": {
        "id": "XTzuPmgx8HBc"
      },
      "source": [
        "Make necessary imports here e.g. import cv2, import glob, etc"
      ]
    },
    {
      "cell_type": "code",
      "execution_count": null,
      "metadata": {
        "id": "j63bSz-_7qG_"
      },
      "outputs": [],
      "source": [
        "import cv2\n",
        "import glob\n",
        "import numpy as np\n",
        "import matplotlib.pyplot as plt\n",
        "from tensorflow.keras.layers import Dense, Conv2D, Dropout, BatchNormalization, Input, LeakyReLU, Flatten, Dropout, ReLU\n",
        "from tensorflow.keras.optimizers import Adam\n",
        "from tensorflow.keras import Model\n",
        "from sklearn.metrics import confusion_matrix\n",
        "import pandas as pd\n",
        "import seaborn as sns\n",
        "import keras\n",
        "import random\n",
        "from keras.datasets import mnist\n",
        "# any other imports that you may require"
      ]
    },
    {
      "cell_type": "markdown",
      "metadata": {
        "id": "Sjo9fKM98Mh8"
      },
      "source": [
        "### Hyperparameters"
      ]
    },
    {
      "cell_type": "markdown",
      "metadata": {
        "id": "_duJq-FH86Mu"
      },
      "source": [
        "CHANGE THESE ONLY WHEN YOU ARE ASKED TO LATER ON IN THE ASSIGNMENT"
      ]
    },
    {
      "cell_type": "code",
      "execution_count": null,
      "metadata": {
        "id": "_hV3BwFQ8Pwl"
      },
      "outputs": [],
      "source": [
        "batch_size = 32\n",
        "epochs = 30\n",
        "learning_rate = 0.0001\n",
        "input_shape = (256,256,3)"
      ]
    },
    {
      "cell_type": "markdown",
      "metadata": {
        "id": "DnIcmW5R8WH_"
      },
      "source": [
        "### Data"
      ]
    },
    {
      "cell_type": "markdown",
      "metadata": {
        "id": "UzDuqfJT8XVN"
      },
      "source": [
        "MAKE NO CHANGES IN THIS PART"
      ]
    },
    {
      "cell_type": "code",
      "execution_count": null,
      "metadata": {
        "colab": {
          "base_uri": "https://localhost:8080/"
        },
        "id": "5f8zmUug8TGD",
        "outputId": "2362e1f7-00e4-4c9a-b9b6-73183263ca82"
      },
      "outputs": [
        {
          "name": "stdout",
          "output_type": "stream",
          "text": [
            "Cloning into 'WheatDiseaseDataset'...\n",
            "remote: Enumerating objects: 749, done.\u001b[K\n",
            "remote: Total 749 (delta 0), reused 0 (delta 0), pack-reused 749\u001b[K\n",
            "Receiving objects: 100% (749/749), 386.05 MiB | 26.92 MiB/s, done.\n",
            "Checking out files: 100% (877/877), done.\n"
          ]
        }
      ],
      "source": [
        "!git clone https://github.com/MMFa666/WheatDiseaseDataset.git"
      ]
    },
    {
      "cell_type": "code",
      "execution_count": null,
      "metadata": {
        "colab": {
          "base_uri": "https://localhost:8080/"
        },
        "id": "MKdAUxVj8fop",
        "outputId": "50ca50e3-4e59-4cf8-8a74-f14e8b8380f8"
      },
      "outputs": [
        {
          "name": "stdout",
          "output_type": "stream",
          "text": [
            "113\n",
            "286\n",
            "300\n"
          ]
        }
      ],
      "source": [
        "healthy_wheat = '/content/WheatDiseaseDataset/train/healthy_wheat'\n",
        "leaf_rust = '/content/WheatDiseaseDataset/train/leaf_rust'\n",
        "stem_rust = '/content/WheatDiseaseDataset/train/stem_rust'\n",
        "healthy_wheat_files = glob.glob(healthy_wheat + '/*.jpg')\n",
        "leaf_rust_files = glob.glob(leaf_rust + '/*.jpg')\n",
        "stem_rust_files = glob.glob(stem_rust + '/*.jpg')\n",
        "print(len(healthy_wheat_files))\n",
        "print(len(leaf_rust_files))\n",
        "print(len(stem_rust_files))"
      ]
    },
    {
      "cell_type": "code",
      "execution_count": null,
      "metadata": {
        "colab": {
          "base_uri": "https://localhost:8080/"
        },
        "id": "Vm-3N94D8hiH",
        "outputId": "a9bbaebc-511b-4ea7-ccf3-7273a9068eec"
      },
      "outputs": [
        {
          "data": {
            "text/plain": [
              "699"
            ]
          },
          "execution_count": 5,
          "metadata": {},
          "output_type": "execute_result"
        }
      ],
      "source": [
        "train_dir = '/content/WheatDiseaseDataset/train'\n",
        "train_files = glob.glob(train_dir + '/*/*.jpg')\n",
        "len(train_files)"
      ]
    },
    {
      "cell_type": "code",
      "execution_count": null,
      "metadata": {
        "colab": {
          "base_uri": "https://localhost:8080/",
          "height": 35
        },
        "id": "eWXz_BYn8lGM",
        "outputId": "9223caf9-5a14-494f-9b7f-92c62862e37b"
      },
      "outputs": [
        {
          "data": {
            "application/vnd.google.colaboratory.intrinsic+json": {
              "type": "string"
            },
            "text/plain": [
              "'leaf_rust'"
            ]
          },
          "execution_count": 6,
          "metadata": {},
          "output_type": "execute_result"
        }
      ],
      "source": [
        "x = train_files[0].split('/')\n",
        "x[4]"
      ]
    },
    {
      "cell_type": "code",
      "execution_count": null,
      "metadata": {
        "colab": {
          "base_uri": "https://localhost:8080/"
        },
        "id": "h8wbdodb8n2O",
        "outputId": "81f23cf7-e12c-4cb9-b6df-d7e8ca72786b"
      },
      "outputs": [
        {
          "data": {
            "text/plain": [
              "177"
            ]
          },
          "execution_count": 7,
          "metadata": {},
          "output_type": "execute_result"
        }
      ],
      "source": [
        "test_dir = '/content/WheatDiseaseDataset/test'\n",
        "test_files = glob.glob(test_dir + '/*/*.jpg')\n",
        "len(test_files)"
      ]
    },
    {
      "cell_type": "markdown",
      "metadata": {
        "id": "nImqz6ME8sYc"
      },
      "source": [
        "### Labels"
      ]
    },
    {
      "cell_type": "markdown",
      "metadata": {
        "id": "br8DmE5o8vXH"
      },
      "source": [
        "MAKE NO CHANGES IN THIS PART"
      ]
    },
    {
      "cell_type": "code",
      "execution_count": null,
      "metadata": {
        "id": "Y-39MpVH8q6j"
      },
      "outputs": [],
      "source": [
        "labels={}\n",
        "labels['healthy_wheat'] = 0\n",
        "labels['leaf_rust'] = 1\n",
        "labels['stem_rust'] = 2"
      ]
    },
    {
      "cell_type": "markdown",
      "metadata": {
        "id": "vYahBSJp80_e"
      },
      "source": [
        "### Preprocessing"
      ]
    },
    {
      "cell_type": "markdown",
      "metadata": {
        "id": "y3xcUZ979gRt"
      },
      "source": [
        "MAKE NO CHANGES IN THIS PART"
      ]
    },
    {
      "cell_type": "code",
      "execution_count": null,
      "metadata": {
        "id": "kYOOSV6I827u"
      },
      "outputs": [],
      "source": [
        "def preprocessing_norm(images):\n",
        "    return images/255.0"
      ]
    },
    {
      "cell_type": "markdown",
      "metadata": {
        "id": "V70tMYZk9ixs"
      },
      "source": [
        "### Batch Generator"
      ]
    },
    {
      "cell_type": "markdown",
      "metadata": {
        "id": "71wiqtN19nNw"
      },
      "source": [
        "MAKE NO CHANGES IN THIS PART"
      ]
    },
    {
      "cell_type": "code",
      "execution_count": null,
      "metadata": {
        "id": "hF1woJ9S9kzO"
      },
      "outputs": [],
      "source": [
        "def parse_path(filename):\n",
        "  one_hot = [0,0,0]\n",
        "  x = filename.split('/')\n",
        "  lab = x[4]\n",
        "  label = labels[lab]\n",
        "  one_hot[label] = one_hot[label] + 1\n",
        "  return one_hot\n",
        "\n",
        "def get_image(filename):\n",
        "  img = cv2.cvtColor(cv2.imread(filename), cv2.COLOR_BGR2RGB)\n",
        "  image = cv2.resize(img, (256,256))\n",
        "  return image\n",
        "\n",
        "def data_generator(data, batch_size):\n",
        "  total_size = len(data)\n",
        "  indexes = np.arange(0, total_size, batch_size)\n",
        "  if total_size % batch_size != 0:\n",
        "    indexes = indexes[:-1]  \n",
        "  while True:\n",
        "    np.random.shuffle(indexes)\n",
        "    for index in indexes:\n",
        "      batch_paths = data[index:index+batch_size]\n",
        "      batch_x = np.array([get_image(path) for path in batch_paths])\n",
        "      batch_y = np.array([parse_path(path) for path in batch_paths])\n",
        "      #batch_x = preprocessing_norm(batch_x)\n",
        "      yield batch_x, batch_y"
      ]
    },
    {
      "cell_type": "markdown",
      "metadata": {
        "id": "PtJRcEt4-LiN"
      },
      "source": [
        "Initialize train data generator"
      ]
    },
    {
      "cell_type": "code",
      "execution_count": null,
      "metadata": {
        "id": "HzqBr75E-MTk"
      },
      "outputs": [],
      "source": [
        "data = data_generator(train_files, batch_size)"
      ]
    },
    {
      "cell_type": "markdown",
      "metadata": {
        "id": "7la8cZaP-Odx"
      },
      "source": [
        "### Training"
      ]
    },
    {
      "cell_type": "markdown",
      "metadata": {
        "id": "55PhKZ77-UKU"
      },
      "source": [
        "THE BASE MODEL HAS ALREADY BEEN BUILT FOR YOU. INITIALIZE AND COMPILE THIS MODEL AND SAVE THE SCREENSHOTS OF THE RESULTS IN THE PDF. \n",
        "\n",
        "YOU WILL BE MAKING THE CHANGES TO THE ARCHITECTURE IN THIS CELL (SPECIFIED LATER IN THE ASSIGNMENT)"
      ]
    },
    {
      "cell_type": "code",
      "execution_count": null,
      "metadata": {
        "id": "pBVwuwMe-QZD"
      },
      "outputs": [],
      "source": [
        "input_img = Input(shape=(input_shape))\n",
        "l = Conv2D(256, kernel_size=(5,5),strides=(2,2))(input_img)\n",
        "l = BatchNormalization()(l)\n",
        "l = LeakyReLU()(l)\n",
        "l = Dropout(0.2)(l)\n",
        "l = Conv2D(128, kernel_size=(3,3),strides=(2,2))(l)\n",
        "l = BatchNormalization()(l)\n",
        "l = LeakyReLU()(l)\n",
        "l = Dropout(0.2)(l)\n",
        "l = Conv2D(64, kernel_size=(3,3),strides=(2,2))(l)\n",
        "l = BatchNormalization()(l)\n",
        "l = LeakyReLU()(l)\n",
        "l = Dropout(0.2)(l)\n",
        "l = Conv2D(64, kernel_size=(3,3),strides=(2,2))(l) \n",
        "l = BatchNormalization()(l) \n",
        "l = LeakyReLU()(l) \n",
        "l = Dropout(0.2)(l) \n",
        "l = Conv2D(32, kernel_size=(3,3),strides=(2,2))(l)\n",
        "l = BatchNormalization()(l)\n",
        "l = LeakyReLU()(l)\n",
        "l = Dropout(0.2)(l)\n",
        "l = Conv2D(16, kernel_size=(3,3),strides=(2,2))(l)\n",
        "l = BatchNormalization()(l)\n",
        "l = LeakyReLU()(l)\n",
        "l = Dropout(0.2)(l)\n",
        "l = Flatten()(l)\n",
        "l = Dense(128)(l)\n",
        "l = LeakyReLU()(l)\n",
        "l = Dropout(0.2)(l)\n",
        "l = Dense(32)(l)\n",
        "l = LeakyReLU()(l)\n",
        "l = Dropout(0.2)(l)\n",
        "output_class = Dense(3, activation='softmax')(l)\n",
        "\n",
        "model_initial = Model(inputs=input_img, outputs=output_class)"
      ]
    },
    {
      "cell_type": "code",
      "execution_count": null,
      "metadata": {
        "colab": {
          "base_uri": "https://localhost:8080/"
        },
        "id": "c_xFicXS-e4T",
        "outputId": "ff443029-94d4-4d08-b2d0-745c8064b543"
      },
      "outputs": [
        {
          "name": "stdout",
          "output_type": "stream",
          "text": [
            "Model: \"model\"\n",
            "_________________________________________________________________\n",
            " Layer (type)                Output Shape              Param #   \n",
            "=================================================================\n",
            " input_1 (InputLayer)        [(None, 256, 256, 3)]     0         \n",
            "                                                                 \n",
            " conv2d (Conv2D)             (None, 126, 126, 256)     19456     \n",
            "                                                                 \n",
            " batch_normalization (BatchN  (None, 126, 126, 256)    1024      \n",
            " ormalization)                                                   \n",
            "                                                                 \n",
            " leaky_re_lu (LeakyReLU)     (None, 126, 126, 256)     0         \n",
            "                                                                 \n",
            " dropout (Dropout)           (None, 126, 126, 256)     0         \n",
            "                                                                 \n",
            " conv2d_1 (Conv2D)           (None, 62, 62, 128)       295040    \n",
            "                                                                 \n",
            " batch_normalization_1 (Batc  (None, 62, 62, 128)      512       \n",
            " hNormalization)                                                 \n",
            "                                                                 \n",
            " leaky_re_lu_1 (LeakyReLU)   (None, 62, 62, 128)       0         \n",
            "                                                                 \n",
            " dropout_1 (Dropout)         (None, 62, 62, 128)       0         \n",
            "                                                                 \n",
            " conv2d_2 (Conv2D)           (None, 30, 30, 64)        73792     \n",
            "                                                                 \n",
            " batch_normalization_2 (Batc  (None, 30, 30, 64)       256       \n",
            " hNormalization)                                                 \n",
            "                                                                 \n",
            " leaky_re_lu_2 (LeakyReLU)   (None, 30, 30, 64)        0         \n",
            "                                                                 \n",
            " dropout_2 (Dropout)         (None, 30, 30, 64)        0         \n",
            "                                                                 \n",
            " conv2d_3 (Conv2D)           (None, 14, 14, 64)        36928     \n",
            "                                                                 \n",
            " batch_normalization_3 (Batc  (None, 14, 14, 64)       256       \n",
            " hNormalization)                                                 \n",
            "                                                                 \n",
            " leaky_re_lu_3 (LeakyReLU)   (None, 14, 14, 64)        0         \n",
            "                                                                 \n",
            " dropout_3 (Dropout)         (None, 14, 14, 64)        0         \n",
            "                                                                 \n",
            " conv2d_4 (Conv2D)           (None, 6, 6, 32)          18464     \n",
            "                                                                 \n",
            " batch_normalization_4 (Batc  (None, 6, 6, 32)         128       \n",
            " hNormalization)                                                 \n",
            "                                                                 \n",
            " leaky_re_lu_4 (LeakyReLU)   (None, 6, 6, 32)          0         \n",
            "                                                                 \n",
            " dropout_4 (Dropout)         (None, 6, 6, 32)          0         \n",
            "                                                                 \n",
            " conv2d_5 (Conv2D)           (None, 2, 2, 16)          4624      \n",
            "                                                                 \n",
            " batch_normalization_5 (Batc  (None, 2, 2, 16)         64        \n",
            " hNormalization)                                                 \n",
            "                                                                 \n",
            " leaky_re_lu_5 (LeakyReLU)   (None, 2, 2, 16)          0         \n",
            "                                                                 \n",
            " dropout_5 (Dropout)         (None, 2, 2, 16)          0         \n",
            "                                                                 \n",
            " flatten (Flatten)           (None, 64)                0         \n",
            "                                                                 \n",
            " dense (Dense)               (None, 128)               8320      \n",
            "                                                                 \n",
            " leaky_re_lu_6 (LeakyReLU)   (None, 128)               0         \n",
            "                                                                 \n",
            " dropout_6 (Dropout)         (None, 128)               0         \n",
            "                                                                 \n",
            " dense_1 (Dense)             (None, 32)                4128      \n",
            "                                                                 \n",
            " leaky_re_lu_7 (LeakyReLU)   (None, 32)                0         \n",
            "                                                                 \n",
            " dropout_7 (Dropout)         (None, 32)                0         \n",
            "                                                                 \n",
            " dense_2 (Dense)             (None, 3)                 99        \n",
            "                                                                 \n",
            "=================================================================\n",
            "Total params: 463,091\n",
            "Trainable params: 461,971\n",
            "Non-trainable params: 1,120\n",
            "_________________________________________________________________\n"
          ]
        }
      ],
      "source": [
        "#print model summary here\n",
        "model_initial.summary()"
      ]
    },
    {
      "cell_type": "code",
      "execution_count": null,
      "metadata": {
        "colab": {
          "base_uri": "https://localhost:8080/"
        },
        "id": "srUZeknV-jVc",
        "outputId": "6e51b5c5-01c1-4ab2-a995-a4104dc51fbe"
      },
      "outputs": [
        {
          "name": "stderr",
          "output_type": "stream",
          "text": [
            "/usr/local/lib/python3.7/dist-packages/keras/optimizer_v2/adam.py:105: UserWarning: The `lr` argument is deprecated, use `learning_rate` instead.\n",
            "  super(Adam, self).__init__(name, **kwargs)\n"
          ]
        }
      ],
      "source": [
        "adam = Adam(lr = learning_rate)\n",
        "model_initial.compile(loss='categorical_crossentropy', \n",
        "              optimizer=adam, \n",
        "              metrics=['accuracy'])"
      ]
    },
    {
      "cell_type": "code",
      "execution_count": null,
      "metadata": {
        "colab": {
          "base_uri": "https://localhost:8080/"
        },
        "id": "TIaC5Jfb-mvU",
        "outputId": "9923679b-d444-4fc0-abb8-133abf55cc82"
      },
      "outputs": [
        {
          "name": "stdout",
          "output_type": "stream",
          "text": [
            "Epoch 1/30\n",
            "21/21 [==============================] - 60s 2s/step - loss: 1.2184 - accuracy: 0.3735\n",
            "Epoch 2/30\n",
            "21/21 [==============================] - 52s 2s/step - loss: 1.1481 - accuracy: 0.3810\n",
            "Epoch 3/30\n",
            "21/21 [==============================] - 53s 3s/step - loss: 1.1067 - accuracy: 0.4196\n",
            "Epoch 4/30\n",
            "21/21 [==============================] - 52s 2s/step - loss: 1.1060 - accuracy: 0.4182\n",
            "Epoch 5/30\n",
            "21/21 [==============================] - 51s 2s/step - loss: 1.1082 - accuracy: 0.4018\n",
            "Epoch 6/30\n",
            "21/21 [==============================] - 51s 2s/step - loss: 1.0678 - accuracy: 0.4449\n",
            "Epoch 7/30\n",
            "21/21 [==============================] - 51s 2s/step - loss: 1.0417 - accuracy: 0.4792\n",
            "Epoch 8/30\n",
            "21/21 [==============================] - 51s 2s/step - loss: 1.0478 - accuracy: 0.4435\n",
            "Epoch 9/30\n",
            "21/21 [==============================] - 51s 2s/step - loss: 1.0408 - accuracy: 0.4747\n",
            "Epoch 10/30\n",
            "21/21 [==============================] - 51s 2s/step - loss: 0.9996 - accuracy: 0.4851\n",
            "Epoch 11/30\n",
            "21/21 [==============================] - 51s 2s/step - loss: 1.0079 - accuracy: 0.4851\n",
            "Epoch 12/30\n",
            "21/21 [==============================] - 51s 2s/step - loss: 0.9826 - accuracy: 0.5030\n",
            "Epoch 13/30\n",
            "21/21 [==============================] - 51s 3s/step - loss: 0.9766 - accuracy: 0.5134\n",
            "Epoch 14/30\n",
            "21/21 [==============================] - 52s 2s/step - loss: 0.9539 - accuracy: 0.5342\n",
            "Epoch 15/30\n",
            "21/21 [==============================] - 52s 2s/step - loss: 0.9317 - accuracy: 0.5610\n",
            "Epoch 16/30\n",
            "21/21 [==============================] - 52s 2s/step - loss: 0.9372 - accuracy: 0.5402\n",
            "Epoch 17/30\n",
            "21/21 [==============================] - 52s 3s/step - loss: 0.9223 - accuracy: 0.5610\n",
            "Epoch 18/30\n",
            "21/21 [==============================] - 52s 2s/step - loss: 0.8914 - accuracy: 0.5789\n",
            "Epoch 19/30\n",
            "21/21 [==============================] - 52s 2s/step - loss: 0.8803 - accuracy: 0.6071\n",
            "Epoch 20/30\n",
            "21/21 [==============================] - 52s 2s/step - loss: 0.8978 - accuracy: 0.5804\n",
            "Epoch 21/30\n",
            "21/21 [==============================] - 52s 2s/step - loss: 0.8871 - accuracy: 0.5848\n",
            "Epoch 22/30\n",
            "21/21 [==============================] - 52s 2s/step - loss: 0.8328 - accuracy: 0.6220\n",
            "Epoch 23/30\n",
            "21/21 [==============================] - 52s 3s/step - loss: 0.8280 - accuracy: 0.6354\n",
            "Epoch 24/30\n",
            "21/21 [==============================] - 52s 2s/step - loss: 0.8019 - accuracy: 0.6488\n",
            "Epoch 25/30\n",
            "21/21 [==============================] - 52s 2s/step - loss: 0.7902 - accuracy: 0.6384\n",
            "Epoch 26/30\n",
            "21/21 [==============================] - 52s 2s/step - loss: 0.7743 - accuracy: 0.6622\n",
            "Epoch 27/30\n",
            "21/21 [==============================] - 52s 2s/step - loss: 0.8285 - accuracy: 0.6161\n",
            "Epoch 28/30\n",
            "21/21 [==============================] - 52s 2s/step - loss: 0.7772 - accuracy: 0.6443\n",
            "Epoch 29/30\n",
            "21/21 [==============================] - 52s 3s/step - loss: 0.7777 - accuracy: 0.6473\n",
            "Epoch 30/30\n",
            "21/21 [==============================] - 53s 3s/step - loss: 0.7410 - accuracy: 0.6756\n"
          ]
        }
      ],
      "source": [
        "hist = model_initial.fit(data, batch_size = batch_size, epochs=epochs, steps_per_epoch=21)"
      ]
    },
    {
      "cell_type": "markdown",
      "metadata": {
        "id": "ziyg6ag0-pnl"
      },
      "source": [
        "Plot the loss and accuracy graphs of training. "
      ]
    },
    {
      "cell_type": "code",
      "execution_count": null,
      "metadata": {
        "colab": {
          "base_uri": "https://localhost:8080/",
          "height": 282
        },
        "id": "Q0DCzHGm-qUb",
        "outputId": "c32f6ba7-4743-4899-dd21-3d690bad28dd"
      },
      "outputs": [
        {
          "data": {
            "text/plain": [
              "[<matplotlib.lines.Line2D at 0x7feb971a0ad0>]"
            ]
          },
          "execution_count": 16,
          "metadata": {},
          "output_type": "execute_result"
        },
        {
          "data": {
            "image/png": "[encoded data removed]",
            "text/plain": [
              "<Figure size 432x288 with 1 Axes>"
            ]
          },
          "metadata": {
            "needs_background": "light"
          },
          "output_type": "display_data"
        }
      ],
      "source": [
        "# Loss Plot\n",
        "plt.plot(hist.history['loss'])"
      ]
    },
    {
      "cell_type": "code",
      "execution_count": null,
      "metadata": {
        "colab": {
          "base_uri": "https://localhost:8080/",
          "height": 282
        },
        "id": "xU8tm7c6-uQf",
        "outputId": "00d50242-0dc4-4abc-830b-9c8e080b4281"
      },
      "outputs": [
        {
          "data": {
            "text/plain": [
              "[<matplotlib.lines.Line2D at 0x7feb96c7dc90>]"
            ]
          },
          "execution_count": 17,
          "metadata": {},
          "output_type": "execute_result"
        },
        {
          "data": {
            "image/png": "[encoded data removed]",
            "text/plain": [
              "<Figure size 432x288 with 1 Axes>"
            ]
          },
          "metadata": {
            "needs_background": "light"
          },
          "output_type": "display_data"
        }
      ],
      "source": [
        "# Accuracy Plot\n",
        "plt.plot(hist.history['accuracy'])"
      ]
    },
    {
      "cell_type": "markdown",
      "metadata": {
        "id": "xAME5E_q-yKM"
      },
      "source": [
        "### Evaluation"
      ]
    },
    {
      "cell_type": "markdown",
      "metadata": {
        "id": "np3mhYYa-18t"
      },
      "source": [
        "Now, we will evaluate our model on the test data."
      ]
    },
    {
      "cell_type": "code",
      "execution_count": null,
      "metadata": {
        "id": "J4NDIc7X-w01"
      },
      "outputs": [],
      "source": [
        "test_data = data_generator(test_files, 177)"
      ]
    },
    {
      "cell_type": "code",
      "execution_count": null,
      "metadata": {
        "id": "9Ii-kih2-5Xt"
      },
      "outputs": [],
      "source": [
        "predictions = model_initial.predict(next(test_data)[0])"
      ]
    },
    {
      "cell_type": "code",
      "execution_count": null,
      "metadata": {
        "id": "lghMxLgC-7AE"
      },
      "outputs": [],
      "source": [
        "pred = []\n",
        "truth = []\n",
        "for prediction in predictions:\n",
        "  pred.append(np.argmax(prediction))\n",
        "for true in next(test_data)[1]:\n",
        "  truth.append(np.argmax(true))"
      ]
    },
    {
      "cell_type": "markdown",
      "metadata": {
        "id": "_YerdbR1--rU"
      },
      "source": [
        "Calculate and print accuracy."
      ]
    },
    {
      "cell_type": "code",
      "execution_count": null,
      "metadata": {
        "colab": {
          "base_uri": "https://localhost:8080/"
        },
        "id": "Ao0Nlv1X-9jM",
        "outputId": "cfb5ef9a-339c-4185-8e07-e16d01684e2a"
      },
      "outputs": [
        {
          "name": "stdout",
          "output_type": "stream",
          "text": [
            "Accuracy = 57.6271186440678\n"
          ]
        }
      ],
      "source": [
        "true = 0\n",
        "total = len(pred)\n",
        "for i in range(total):\n",
        "  if pred[i] == truth[i]:\n",
        "    true = true + 1\n",
        "print(\"Accuracy =\", (true/total)*100)"
      ]
    },
    {
      "cell_type": "markdown",
      "metadata": {
        "id": "gVcW9UXD_DLN"
      },
      "source": [
        "Calculate and print Confusion Matrix. "
      ]
    },
    {
      "cell_type": "code",
      "execution_count": null,
      "metadata": {
        "id": "T-YbU_KW_FFb"
      },
      "outputs": [],
      "source": [
        "matrix = confusion_matrix(truth, pred)"
      ]
    },
    {
      "cell_type": "code",
      "execution_count": null,
      "metadata": {
        "id": "fxoKWR_k_SRt"
      },
      "outputs": [],
      "source": [
        "def plot_confusion_matrix(conf_mat):\n",
        "    classes = list(labels.keys())\n",
        "    df_cm = pd.DataFrame(conf_mat,classes,classes)\n",
        "    plt.figure(figsize=(10,7))\n",
        "    sns.set(font_scale=1.4)\n",
        "    sns.heatmap(df_cm, annot=True,annot_kws={\"size\": 16})\n",
        "    plt.show()"
      ]
    },
    {
      "cell_type": "markdown",
      "metadata": {
        "id": "9w7a2UdCWJ3Q"
      },
      "source": [
        "Use the above function to plot confusion matrix here."
      ]
    },
    {
      "cell_type": "code",
      "execution_count": null,
      "metadata": {
        "colab": {
          "base_uri": "https://localhost:8080/",
          "height": 437
        },
        "id": "d1Y6KPEW_b5b",
        "outputId": "f5f97fa1-c936-46a5-9bc9-3dd794227b48"
      },
      "outputs": [
        {
          "data": {
            "image/png": "[encoded data removed]",
            "text/plain": [
              "<Figure size 720x504 with 2 Axes>"
            ]
          },
          "metadata": {
            "needs_background": "light"
          },
          "output_type": "display_data"
        }
      ],
      "source": [
        "plot_confusion_matrix(matrix)"
      ]
    },
    {
      "cell_type": "markdown",
      "metadata": {
        "id": "m29EU7mZVrD3"
      },
      "source": [
        "### Changes to be made\n"
      ]
    },
    {
      "cell_type": "markdown",
      "metadata": {
        "id": "SxetUutBW9Px"
      },
      "source": [
        "Now that you've successfuly ran and gotten the results for the model that we built for you, make the following changes (one by one), and see how they effect the performance and the results of the model. In total, you will have the results of 5 different experiments (including those of the network already built for you)\n",
        "\n",
        "SCREENSHOT ALL THE RESULTS (INCLUDING THOSE FOR THE MODEL WE BUILT FOR YOU) AND ADD THEM TO A PDF. \n",
        "\n",
        "Change #1: Change the learning rate to 0.01. <br>\n",
        "Change #2: Change the epochs to 50 (make sure to change the learning rate back to 0.0001) <br>\n",
        "Change #3: Change the Leaky ReLU activation to ReLU (make sure to use 30 epochs and a learning rate of 0.0001) <br>\n",
        "Change #4: Increase the depth of the neural network by adding another convolutional layer (followed by the batch normalization layer, the leaky ReLU activation layer, and the dropout layer). This new piece of code will be added right before the convolution layer with the filter size of 32 in the architecture (line 14). The code to be added is as follows:     \n",
        "```\n",
        "l = Conv2D(64, kernel_size=(3,3),strides=(2,2))(l) \n",
        "l = BatchNormalization()(l) \n",
        "l = LeakyReLU()(l) \n",
        "l = Dropout(0.2)(l) \n",
        "```\n",
        "Again, this is to be added in the 14th line, i.e, between the following two lines of code in the architecture:     \n",
        "```\n",
        "l = Dropout(0.2)(l)\n",
        "l = Conv2D(32, kernel_size=(3,3),strides=(2,2))(l)\n",
        "```\n",
        "You will notice that this is the exact layer collection as the previous layer. Make sure to change all the ReLU layers back to Leaky ReLU and keep the epochs at 30 and the learning rate at 0.0001 for a controlled experiment\n"
      ]
    },
    {
      "cell_type": "markdown",
      "metadata": {
        "id": "2QeB-aefW64T"
      },
      "source": [
        "### Questions (You might need to do research)\n",
        "\n",
        "1) How did changing the learning rate impact your results? Why? \n",
        "\n",
        "\n",
        "2) How did changing the number of epochs impact your results? Why? \n",
        "\n",
        "\n",
        "3) How did changing the leaky relu function to a normal relu function impact your results? Why?\n",
        "\n",
        "4) How did adding a new layer group impact your results? Why?\n",
        "\n",
        "4) The batch normalization and the dropout layers act like regularization layers. Theoretically, what would happen if all these regularization layers are removed?\n",
        "\n",
        "5) What is class imbalance? Is there class imbalance in this problem? Why or why not?"
      ]
    },
    {
      "cell_type": "markdown",
      "metadata": {
        "id": "nJfrxPm1oIgj"
      },
      "source": []
    },
    {
      "cell_type": "markdown",
      "metadata": {
        "id": "32ofnx91p2PY"
      },
      "source": [
        "## **ANSWER 1**\n",
        "Learning rate is one of the hyper-parameters in a neural network that is used while the model is doing gradient descent. In each epoch, it is used to control how much the model should change the weights in response to the estimated error. Subsequently, learning rate can have a crucial effect on the model and its training. \n",
        "\n",
        "A very low learning rate may cause the model to take a very long time to converge or may even get stuck. While a very high learning rate may cause the model to rapidly converge to a suboptimal solution or even miss the global minimum.  \n",
        "\n",
        "In context to this assignment when the learning rate was 0.0001, the test accuracy was 67.23% and training accuracy reached a maximum of 75% whereas after changing the learning rate to 0.01, the test accuracy went down to 54.24% and training accuracy increased and reached a maximum of 90%.  \n",
        "\n",
        "It seems that when we increased the learning rate, the training accuracy increased because the model might have converged into a sub-optimal solution or overtrained. Hence, this is further corroborated by the fact that the model has a higher variance( i-e test accuracy decreased after increasing the learning rate) than the base model.  As a result, a higher learning rate will negatively impact our model's accuracy and instead of generalizing the model it will overtrain the model on training data and its noise.  "
      ]
    },
    {
      "cell_type": "markdown",
      "metadata": {
        "id": "Z9gPPMjJ4DXp"
      },
      "source": [
        "## ANSWER **2**\n",
        "The number of epochs is also another hyper parameter of neural network that is used to control how many times the algorithm will work through the training data in order to learn it.  \n",
        "\n",
        "In context to this assignment when the number of epochs were 30 in the base model, the test accuracy was 67.23% and training accuracy reached a maximum of approximately 75% whereas after changing the learning rate to 50, the test accuracy went down to 61.58% and training accuracy increased and reached a maximum of around 90%.  \n",
        "\n",
        "It seems that a higher number of epochs is negatively affecting the accuracy of our model. It is possible that at the higher number of epochs, the model is learning the noise of training data and is therefore overfitting and instead of stopping at an optimum solution the model is missing it. This is also evident from the fact that training accuracy is increasing but the test accuracy is decreasing at higher epochs. Hence, this shows that the model has a higher variance and may not perform well on unseen data at higher epochs. "
      ]
    },
    {
      "cell_type": "markdown",
      "metadata": {
        "id": "11Qz6cCl89aS"
      },
      "source": [
        "## ANSWER **3**\n",
        "Both LeakyRelu and Relu are activation functions used in neural networks. LeakyRelu was designed and introduced in order to overcome the shortcomings of simple Relu function. The problem with Relu(aka Dying Relu) is that since it is defined as y(x) = max (0, x), therefore, the gradient of Relu gives 1 if value is positive and 0 if the value is negative. As a result, a neuron will become dead if the value is negative and will always output 0. Due to this the accumulated gradient for weight update will be multiplied by 0 and therefore, the layers below this dead neuron will contribute nothing to the learning and will become useless including the dead neuron.  So, this is solved by LeakyRelu because it gives a very small value like 0.01 at negative values so at least some learning can happen.  \n",
        "\n",
        "In context to this assignment when in the base model LeakyRelu was used, the test accuracy was 67.23% and training accuracy reached a maximum of approximately 75% whereas after changing LeakyRelu to Relu, the test accuracy went down to 52.54% and training accuracy also decreased and reached a maximum of around 54%.  \n",
        "\n",
        "It is apparent that changing LeakyRelu to Relu is negatively impacting our model's performance on both training and testing data. Due to dead neuron problem of Relu it is highly probable that some neurons in the models are getting dead and contributing nothing in learning thus causing an unstable and incomplete training process due to which the model is performing badly which is also supported by the results as both the training and testing accuracies are decreasing after replacing LeakyRelu with Relu "
      ]
    },
    {
      "cell_type": "markdown",
      "metadata": {
        "id": "Gkb14k03G0hb"
      },
      "source": [
        "## **ANSWER 4**\n",
        "The number of layers in a neural net is another hyper parameter for the architecture of the model. It is basically used to increase the complexity of the model so that the model can fit on data if the problem is complex, and if the model is under training. Hence, if the problem is already simple then increasing the number of layers will overtrain the model and decrease test accuracy while if the problem is complex and model is being underfit then increasing the number of layers will fit the model, thus improving model’s performance.  \n",
        "\n",
        "In context to this assignment when the base model was used, the test accuracy was 67.23% and training accuracy reached a maximum of approximately 75% whereas after adding another layer group, the test accuracy went down to 57.63% and training accuracy also decreased and reached a maximum of around 68%. \n",
        "\n",
        "The fact that training accuracy is decreasing after adding another layer group indicates that model is not overfitting otherwise the training accuracy should have increased. It seems that the model is being underfitted because both test and training accuracies are decreasing. One reason for this could be that since we have increased the number of layers, we now have additional weights to train which now may require a greater number of epochs. However, since we don’t increase the epochs, the model ends up undertraining and performing bad on both training and testing data. As a result, in this case just adding another layer will negatively impact the performance of the model. "
      ]
    },
    {
      "cell_type": "markdown",
      "metadata": {
        "id": "9Bk6Te4ZRr8f"
      },
      "source": [
        "## **ANSWER 5**\n",
        "Normalization is a preprocessing technique in order to standardize the data. Similarly, batch normalization is the technique of normalization done between layers of a neural network in order to speed up the training process and enabling the use of higher learning rates by reducing the internal covariate shift of the network.  \n",
        "\n",
        "On the other hand, dropout layer is a regularization technique that approximates the training of lots of neural networks with different architectures in parallel. In this technique, some of the neurons are randomly turned off by ignoring their output. As a result, this makes the model more generalized by putting randomness into the training process and thus decreases the chances of model being overfit.  \n",
        "\n",
        "Theoretically, if we remove all these regularization layers, then the model will be more susceptible to overtraining and learning the noise of training data as well. Since there will be no randomness, there will be no ensemble and model will be less generalized so test accuracy will also go down. Secondly, without batch normalization, the training process will slow down because instead of higher learning rate we would need to use low learning rates which will take a greater number of epochs to train thus more time. Hence, removing these layers will negatively affect our model’s performance. "
      ]
    },
    {
      "cell_type": "markdown",
      "metadata": {
        "id": "Df4tuSvJYYC5"
      },
      "source": [
        "## **ANSWER 6**\n",
        "Class imbalance in dataset happens when the number of observations belonging to each class are different. I-e there are a greater number of observations belonging to one class as compared to another class.  \n",
        "\n",
        "In this problem, as seen by the length of list of files for each class, there are 113 observations belonging to class healthy wheat, 286 belonging to class leaf rust and 300 belonging to class stem rust. So yes, there is a clear class imbalance in this problem because the number of observations belonging to healthy wheat class is almost half of that of other classes. As a result, the model will have difficulty learning to predict this minority class.  "
      ]
    }
  ],
  "metadata": {
    "accelerator": "GPU",
    "colab": {
      "collapsed_sections": [],
      "name": "Assignment 5.ipynb",
      "provenance": []
    },
    "kernelspec": {
      "display_name": "Python 3",
      "name": "python3"
    },
    "language_info": {
      "name": "python"
    }
  },
  "nbformat": 4,
  "nbformat_minor": 0
}
