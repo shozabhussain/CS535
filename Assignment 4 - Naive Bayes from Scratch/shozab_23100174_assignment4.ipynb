{
 "cells": [
  {
   "cell_type": "code",
   "execution_count": 1,
   "metadata": {},
   "outputs": [],
   "source": [
    "import numpy as np\n",
    "import pandas as pd\n",
    "import matplotlib.pyplot as plt\n",
    "%matplotlib inline\n",
    "import glob\n",
    "import cv2\n",
    "import re\n",
    "from collections import Counter\n",
    "import copy"
   ]
  },
  {
   "cell_type": "markdown",
   "metadata": {},
   "source": [
    "## Part 1"
   ]
  },
  {
   "cell_type": "markdown",
   "metadata": {},
   "source": [
    "### Loading dataset"
   ]
  },
  {
   "cell_type": "code",
   "execution_count": 2,
   "metadata": {},
   "outputs": [],
   "source": [
    "## help taken from https://www.youtube.com/watch?v=Z90KEqJoC3w&ab_channel=Apeer_micro\n",
    "\n",
    "## extract a list of paths \n",
    "\n",
    "file_list_train_pos = glob.glob('Dataset/train/pos/*')\n",
    "file_list_train_neg = glob.glob('Dataset/train/neg/*.*')\n",
    "file_list_test_pos = glob.glob('Dataset/test/pos/*.*')\n",
    "file_list_test_neg = glob.glob('Dataset/test/neg/*.*')"
   ]
  },
  {
   "cell_type": "code",
   "execution_count": 3,
   "metadata": {},
   "outputs": [
    {
     "name": "stderr",
     "output_type": "stream",
     "text": [
      "<ipython-input-3-552e4db0a369>:14: UserWarning: loadtxt: Empty input file: \"Dataset/train/neg\\2425_4.txt\"\n",
      "  train_neg.append(np.loadtxt(file_list_train_neg[i], delimiter='\\n', dtype=str, encoding='utf-8').tolist())\n",
      "<ipython-input-3-552e4db0a369>:14: UserWarning: loadtxt: Empty input file: \"Dataset/train/neg\\4179_4.txt\"\n",
      "  train_neg.append(np.loadtxt(file_list_train_neg[i], delimiter='\\n', dtype=str, encoding='utf-8').tolist())\n",
      "<ipython-input-3-552e4db0a369>:13: UserWarning: loadtxt: Empty input file: \"Dataset/train/pos\\5122_9.txt\"\n",
      "  train_pos.append(np.loadtxt(file_list_train_pos[i], delimiter='\\n', dtype=str, encoding='utf-8').tolist())\n"
     ]
    }
   ],
   "source": [
    "## extract the content(reviews) from each file from the lists of the paths and append to respective list\n",
    "## train_pos = list of reviews from training data with positive sentiment\n",
    "## test_pos = list of reviews from test data with positive sentiment\n",
    "## train_neg = list of reviews from training data with negative sentiment\n",
    "## test_neg = list of reviews from test data with negative sentiment\n",
    "\n",
    "train_pos = []\n",
    "train_neg = []\n",
    "test_pos = []\n",
    "test_neg = []\n",
    "\n",
    "for i in range(len(file_list_train_pos)):\n",
    "    train_pos.append(np.loadtxt(file_list_train_pos[i], delimiter='\\n', dtype=str, encoding='utf-8').tolist())\n",
    "    train_neg.append(np.loadtxt(file_list_train_neg[i], delimiter='\\n', dtype=str, encoding='utf-8').tolist())\n",
    "    test_pos.append(np.loadtxt(file_list_test_pos[i], delimiter='\\n', dtype=str, encoding='utf-8').tolist())\n",
    "    test_neg.append(np.loadtxt(file_list_test_neg[i], delimiter='\\n', dtype=str, encoding='utf-8').tolist())"
   ]
  },
  {
   "cell_type": "code",
   "execution_count": 4,
   "metadata": {},
   "outputs": [],
   "source": [
    "## Extracts stops words into a list\n",
    "\n",
    "stop_words = pd.read_csv('Dataset/stop_words.txt')\n",
    "stop_words_list = stop_words.values.tolist()\n",
    "temp = []\n",
    "\n",
    "for list_item in stop_words_list:\n",
    "    for word in list_item:\n",
    "        temp.append(word)\n",
    "        \n",
    "stop_words_list = temp"
   ]
  },
  {
   "cell_type": "markdown",
   "metadata": {},
   "source": [
    "### Cleaning Data"
   ]
  },
  {
   "cell_type": "code",
   "execution_count": 5,
   "metadata": {},
   "outputs": [],
   "source": [
    "## function to clean data\n",
    "def clean(x):\n",
    "    \n",
    "    cleaned_x = []\n",
    "    for i in range(len(x)):\n",
    "        if type(x[i]) == list:\n",
    "            continue\n",
    "        temp = re.sub(r'[A-Z]', lambda x :  x.group(0).lower(), x[i])   ## convert to lowercase\n",
    "        temp = re.sub(r'[^a-z\\']+', ' ', temp)                          ## removes everything except alphabets and ' \n",
    "        temp = re.sub(r'[ ]+', ' ', temp)                               ## removes all extra spaces\n",
    "\n",
    "        for word in stop_words_list:                                    ## removes all the stop words\n",
    "            temp = re.sub(r\"\\b{}\\b\".format(word),\" \",temp)\n",
    "            \n",
    "        temp = re.sub(r' i ', ' ', temp)                                ## removes the letter 'i'\n",
    "        temp = re.sub(r' br br ', ' ', temp)                            ## removes the word br br \n",
    "        temp = re.sub(r'[\\']+', ' ', temp)                              ## removes the remaining '\n",
    "        temp = re.sub(r' i ', ' ', temp)\n",
    "        temp = re.sub(r'[ ]+', ' ', temp)                               ## removes all extra spaces\n",
    "        cleaned_x.append(temp)\n",
    "    return cleaned_x"
   ]
  },
  {
   "cell_type": "code",
   "execution_count": 6,
   "metadata": {},
   "outputs": [],
   "source": [
    "#cleans the data \n",
    "cleaned_train_pos = clean(train_pos)\n",
    "cleaned_train_neg = clean(train_neg)\n",
    "cleaned_test_pos = clean(test_pos)\n",
    "cleaned_test_neg = clean(test_neg)"
   ]
  },
  {
   "cell_type": "markdown",
   "metadata": {},
   "source": [
    "### Creating Bag of Words for Both Classes"
   ]
  },
  {
   "cell_type": "code",
   "execution_count": 7,
   "metadata": {},
   "outputs": [],
   "source": [
    "## converting the training data into bag of words\n",
    "## train_pos_bow = bag of words from training data with positive sentiment\n",
    "## train_neg_bow = bag of words from training data with negative sentiment\n",
    "\n",
    "train_pos_bow = []\n",
    "\n",
    "for sentence in cleaned_train_pos:\n",
    "    for word in sentence.split():\n",
    "        if word != 'i':\n",
    "            train_pos_bow.append(word)\n",
    "            \n",
    "train_neg_bow = []\n",
    "\n",
    "for sentence in cleaned_train_neg:\n",
    "    for word in sentence.split():\n",
    "        if word != 'i':\n",
    "            train_neg_bow.append(word)"
   ]
  },
  {
   "cell_type": "markdown",
   "metadata": {},
   "source": [
    "### Training Naive Bayes Classifier"
   ]
  },
  {
   "cell_type": "code",
   "execution_count": 8,
   "metadata": {},
   "outputs": [],
   "source": [
    "def TrainNaiveBayes(train_pos_bow, train_neg_bow):\n",
    "    \n",
    "    V = copy.deepcopy(train_pos_bow) + copy.deepcopy(train_neg_bow)     ## combines unique words from train_pos_bow and train_neg_bow to make vocabulary\n",
    "    V = list(set(V))\n",
    "    V_length = len(V)\n",
    "    \n",
    "    total_length = ( len(cleaned_train_pos) + len(cleaned_train_neg) )          ## total length of training data\n",
    "    \n",
    "    pos_prior = abs(np.log( len(cleaned_train_pos) / total_length ))        ## probability of class being positive \n",
    "    neg_prior = abs(np.log( len(cleaned_train_neg) / total_length ))        ## probability of class being negative\n",
    "    \n",
    "    pos_likelihood = {}\n",
    "    neg_likelihood = {}\n",
    "    \n",
    "    pos_word_counts = Counter(train_pos_bow)                            ## gets number of occurence of every word from train_pos_bow\n",
    "    neg_word_counts = Counter(train_neg_bow)                            ## gets number of occurence of every word from train_neg_bow\n",
    "    \n",
    "    for word in V:\n",
    "        count = pos_word_counts[word]                                   ## gets the number of occurence of a specific word\n",
    "        pos_likelihood[word] = abs(np.log( (count+1) / (V_length + len(train_pos_bow) ) ))         ## probability of that specific word given positive sentiment\n",
    "                                                                                                    ## with scaling \n",
    "        count = neg_word_counts[word]\n",
    "        neg_likelihood[word] = abs(np.log( (count+1) / (V_length + len(train_neg_bow) ) ))         ## probability of that specific word given negative sentiment\n",
    "        \n",
    "    return (pos_prior, neg_prior), (pos_likelihood, neg_likelihood), V"
   ]
  },
  {
   "cell_type": "code",
   "execution_count": 9,
   "metadata": {},
   "outputs": [],
   "source": [
    "## 0 index contains positive sentiment probabilities while 1 contain negative sentiment probabilities\n",
    "## training classifier\n",
    "\n",
    "priors, likelihoods, V = TrainNaiveBayes(train_pos_bow, train_neg_bow)"
   ]
  },
  {
   "cell_type": "markdown",
   "metadata": {},
   "source": [
    "### Testing Naive Bayes Classifier"
   ]
  },
  {
   "cell_type": "code",
   "execution_count": 10,
   "metadata": {},
   "outputs": [],
   "source": [
    "## function to run classifier on test data\n",
    "\n",
    "def TestNaiveBayes(test, priors, likelihoods, V):\n",
    "    sum_pos = priors[0]\n",
    "    sum_neg = priors[1]\n",
    "    \n",
    "    for word in test:\n",
    "        try:\n",
    "            sum_pos = sum_pos + likelihoods[0][word]        ## sums the probability of all words in test sentence one by one for each sentiment\n",
    "            sum_neg = sum_neg + likelihoods[1][word]\n",
    "        except:\n",
    "            continue\n",
    "            \n",
    "    \n",
    "    if sum_pos < sum_neg:                                   ## if probability of positive greater then classify as postive \n",
    "        return 'pos'\n",
    "    \n",
    "    elif sum_pos > sum_neg:\n",
    "        return 'neg'"
   ]
  },
  {
   "cell_type": "markdown",
   "metadata": {},
   "source": [
    "### Running Naive Bayes on Test Data"
   ]
  },
  {
   "cell_type": "code",
   "execution_count": 11,
   "metadata": {},
   "outputs": [],
   "source": [
    "pos_results = []        ## contains predicted labels for test data with positive sentiment\n",
    "neg_results = []        ## contains predicted labels for test data with negative sentiment\n",
    "\n",
    "for i in range(len(cleaned_test_pos)):\n",
    "    pos_results.append( TestNaiveBayes(cleaned_test_pos[i].split(), priors, likelihoods, V) )       ## running classifier on test data with positive sentiment\n",
    "    neg_results.append( TestNaiveBayes(cleaned_test_neg[i].split(), priors, likelihoods, V) )       ## running classifier on test data with negative sentiment"
   ]
  },
  {
   "cell_type": "markdown",
   "metadata": {},
   "source": [
    "### Evaluation"
   ]
  },
  {
   "cell_type": "code",
   "execution_count": 12,
   "metadata": {},
   "outputs": [
    {
     "name": "stdout",
     "output_type": "stream",
     "text": [
      "Accuracy =  82.548\n",
      "Confusion Matrix =  [[ 9614.  1477.]\n",
      " [ 2886. 11023.]]\n"
     ]
    }
   ],
   "source": [
    "pos_results_count = Counter(pos_results)\n",
    "neg_results_count = Counter(neg_results)\n",
    "\n",
    "true_pos = pos_results_count['pos']\n",
    "true_neg = neg_results_count['neg']\n",
    "false_neg = pos_results_count['neg']\n",
    "false_pos = neg_results_count['pos']\n",
    "\n",
    "accuracy = (true_pos + true_neg) / (true_pos + true_neg + false_pos + false_neg)\n",
    "\n",
    "confusion_matrix1 = np.zeros([2,2])\n",
    "confusion_matrix1[0][0] = true_pos\n",
    "confusion_matrix1[1][1] = true_neg\n",
    "confusion_matrix1[0][1] = false_pos\n",
    "confusion_matrix1[1][0] = false_neg\n",
    "\n",
    "print(\"Accuracy = \", accuracy*100)\n",
    "print(\"Confusion Matrix = \", confusion_matrix1)"
   ]
  },
  {
   "cell_type": "markdown",
   "metadata": {},
   "source": [
    "### Plotting Confusion Matrix"
   ]
  },
  {
   "cell_type": "code",
   "execution_count": 13,
   "metadata": {},
   "outputs": [
    {
     "data": {
      "image/png": "[encoded data removed]",
      "text/plain": [
       "<Figure size 432x288 with 1 Axes>"
      ]
     },
     "metadata": {
      "needs_background": "light"
     },
     "output_type": "display_data"
    }
   ],
   "source": [
    "fig, (ax) = plt.subplots(1, 1)\n",
    "im = ax.imshow(confusion_matrix1, cmap='Blues')\n",
    "\n",
    "ax.set_xticks(np.arange(2))\n",
    "ax.set_yticks(np.arange(2))\n",
    "\n",
    "ax.set_xticklabels([1, 0])\n",
    "ax.set_yticklabels([1, 0])\n",
    "\n",
    "ax.set_xlabel('Gold Labels')\n",
    "ax.set_ylabel('Predicted Labels')\n",
    "\n",
    "for i in range(2):\n",
    "        for j in range(2):\n",
    "            text = ax.text(j, i, confusion_matrix1[i, j], ha=\"center\", va=\"center\", color=\"black\")\n",
    "\n",
    "ax.tick_params(top=True, bottom=False, labeltop=True, labelbottom=False)\n",
    "    \n",
    "ax.set_title(\"Confusion Matrix\")      \n",
    "plt.tight_layout()\n",
    "plt.show()"
   ]
  },
  {
   "cell_type": "markdown",
   "metadata": {},
   "source": [
    "## Part 2"
   ]
  },
  {
   "cell_type": "code",
   "execution_count": 14,
   "metadata": {},
   "outputs": [],
   "source": [
    "from sklearn.feature_extraction.text import CountVectorizer\n",
    "from sklearn.naive_bayes import MultinomialNB\n",
    "from sklearn.metrics import accuracy_score\n",
    "from sklearn.metrics import confusion_matrix"
   ]
  },
  {
   "cell_type": "markdown",
   "metadata": {},
   "source": [
    "### Vectorizing the Data"
   ]
  },
  {
   "cell_type": "code",
   "execution_count": 15,
   "metadata": {},
   "outputs": [],
   "source": [
    "vectorizer = CountVectorizer(input='filename', stop_words=stop_words_list)          ## vectorizing training data and making vocabulary\n",
    "train_X = vectorizer.fit_transform((file_list_train_pos+file_list_train_neg))\n",
    "\n",
    "train_x_pos_labels = np.ones((1,len(file_list_train_pos)))\n",
    "train_x_neg_labels = np.zeros((1,len(file_list_train_neg)))\n",
    "train_Y = np.concatenate((train_x_pos_labels, train_x_neg_labels), axis=1)          ## preparing training labels\n",
    "\n",
    "test_X = vectorizer.transform((file_list_test_pos+file_list_test_neg))              ## vectorizing test data from the vocabulary from test data\n",
    "\n",
    "test_x_pos_labels = np.ones((1,len(file_list_test_pos)))\n",
    "test_x_neg_labels = np.zeros((1,len(file_list_test_neg)))\n",
    "test_Y = np.concatenate((test_x_pos_labels, test_x_neg_labels), axis=1)             ## preparing test labels "
   ]
  },
  {
   "cell_type": "markdown",
   "metadata": {},
   "source": [
    "### Training Naive Bayes Classifier "
   ]
  },
  {
   "cell_type": "code",
   "execution_count": 16,
   "metadata": {},
   "outputs": [],
   "source": [
    "classifier = MultinomialNB()\n",
    "classifier.fit(train_X, train_Y.flatten())\n",
    "predicted = classifier.predict(test_X)"
   ]
  },
  {
   "cell_type": "markdown",
   "metadata": {},
   "source": [
    "### Evaluation"
   ]
  },
  {
   "cell_type": "code",
   "execution_count": 17,
   "metadata": {},
   "outputs": [
    {
     "name": "stdout",
     "output_type": "stream",
     "text": [
      "Accuracy =  82.392\n",
      "Confusion Matrix =  [[11017  1483]\n",
      " [ 2919  9581]]\n"
     ]
    }
   ],
   "source": [
    "accuracy2 = accuracy_score(test_Y.flatten(), predicted)\n",
    "confusion_matrix2 = confusion_matrix(test_Y.flatten(), predicted)\n",
    "print(\"Accuracy = \", accuracy2*100)\n",
    "print(\"Confusion Matrix = \", confusion_matrix2 )"
   ]
  },
  {
   "cell_type": "markdown",
   "metadata": {},
   "source": [
    "### Plotting Confusion Matrix"
   ]
  },
  {
   "cell_type": "code",
   "execution_count": 18,
   "metadata": {},
   "outputs": [
    {
     "data": {
      "image/png": "[encoded data removed]",
      "text/plain": [
       "<Figure size 432x288 with 1 Axes>"
      ]
     },
     "metadata": {
      "needs_background": "light"
     },
     "output_type": "display_data"
    }
   ],
   "source": [
    "fig, (ax) = plt.subplots(1, 1)\n",
    "im = ax.imshow(confusion_matrix2, cmap='Blues')\n",
    "\n",
    "ax.set_xticks(np.arange(2))\n",
    "ax.set_yticks(np.arange(2))\n",
    "\n",
    "ax.set_xticklabels([1, 0])\n",
    "ax.set_yticklabels([1, 0])\n",
    "\n",
    "ax.set_xlabel('Gold Labels')\n",
    "ax.set_ylabel('Predicted Labels')\n",
    "\n",
    "for i in range(2):\n",
    "        for j in range(2):\n",
    "            text = ax.text(j, i, confusion_matrix2[i, j], ha=\"center\", va=\"center\", color=\"black\")\n",
    "\n",
    "ax.tick_params(top=True, bottom=False, labeltop=True, labelbottom=False)\n",
    "    \n",
    "ax.set_title(\"Confusion Matrix\")      \n",
    "plt.tight_layout()\n",
    "plt.show()"
   ]
  }
 ],
 "metadata": {
  "interpreter": {
   "hash": "9722b5e222019e22e0620b05e222a7fb76cdce7720d605713f02f3d05acc17da"
  },
  "kernelspec": {
   "display_name": "Python 3.9.1 64-bit",
   "language": "python",
   "name": "python3"
  },
  "language_info": {
   "codemirror_mode": {
    "name": "ipython",
    "version": 3
   },
   "file_extension": ".py",
   "mimetype": "text/x-python",
   "name": "python",
   "nbconvert_exporter": "python",
   "pygments_lexer": "ipython3",
   "version": "3.9.1"
  },
  "orig_nbformat": 4
 },
 "nbformat": 4,
 "nbformat_minor": 2
}
